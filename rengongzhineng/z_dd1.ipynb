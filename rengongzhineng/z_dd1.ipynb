{
 "cells": [
  {
   "cell_type": "markdown",
   "source": [
    "# 自动求导"
   ],
   "metadata": {
    "collapsed": false
   },
   "id": "672c351252656e7e"
  },
  {
   "cell_type": "code",
   "execution_count": 1,
   "id": "initial_id",
   "metadata": {
    "collapsed": true,
    "ExecuteTime": {
     "end_time": "2023-11-23T12:18:34.627987800Z",
     "start_time": "2023-11-23T12:18:33.082057Z"
    }
   },
   "outputs": [],
   "source": [
    "import torch"
   ]
  },
  {
   "cell_type": "markdown",
   "source": [
    "训练过程中就可以指定x求导\n",
    "方法1：直接手动定义"
   ],
   "metadata": {
    "collapsed": false
   },
   "id": "a516adac29532bd6"
  },
  {
   "cell_type": "code",
   "execution_count": 3,
   "outputs": [
    {
     "data": {
      "text/plain": "tensor([[ 0.5079, -2.2771,  0.5609,  1.4770],\n        [-2.0243,  1.8269,  0.1751,  0.8320],\n        [-0.8801,  0.3554,  1.2082,  0.4928]], requires_grad=True)"
     },
     "execution_count": 3,
     "metadata": {},
     "output_type": "execute_result"
    }
   ],
   "source": [
    "x = torch.randn(3,4,requires_grad=True)\n",
    "x"
   ],
   "metadata": {
    "collapsed": false,
    "ExecuteTime": {
     "end_time": "2023-11-23T12:19:42.588505200Z",
     "start_time": "2023-11-23T12:19:42.577493700Z"
    }
   },
   "id": "3ade99a5fad4a4a8"
  },
  {
   "cell_type": "markdown",
   "source": [
    "方法2，后续添加"
   ],
   "metadata": {
    "collapsed": false
   },
   "id": "b5c66391b189df11"
  },
  {
   "cell_type": "code",
   "execution_count": 5,
   "outputs": [
    {
     "data": {
      "text/plain": "tensor([[-0.9924, -0.7102,  1.5046,  0.3743],\n        [-1.9801,  0.5823, -1.1125, -0.1576],\n        [ 0.4780,  1.6829, -0.1675,  1.2813]], requires_grad=True)"
     },
     "execution_count": 5,
     "metadata": {},
     "output_type": "execute_result"
    }
   ],
   "source": [
    "x = torch.randn(3,4)\n",
    "x.requires_grad=True\n",
    "x"
   ],
   "metadata": {
    "collapsed": false,
    "ExecuteTime": {
     "end_time": "2023-11-23T12:20:27.311992800Z",
     "start_time": "2023-11-23T12:20:27.306922300Z"
    }
   },
   "id": "103ad0ef977a2227"
  },
  {
   "cell_type": "code",
   "execution_count": 10,
   "outputs": [
    {
     "data": {
      "text/plain": "tensor([[0.9452, 0.4658, 0.2649, 0.7263],\n        [0.2424, 0.0635, 0.5102, 0.0802],\n        [0.3146, 0.1266, 0.2440, 0.2987]], requires_grad=True)"
     },
     "execution_count": 10,
     "metadata": {},
     "output_type": "execute_result"
    }
   ],
   "source": [
    "b = torch.rand(3,4,requires_grad=True)\n",
    "b"
   ],
   "metadata": {
    "collapsed": false,
    "ExecuteTime": {
     "end_time": "2023-11-23T12:22:42.371546Z",
     "start_time": "2023-11-23T12:22:42.365614500Z"
    }
   },
   "id": "e4ffc09f15597ce7"
  },
  {
   "cell_type": "code",
   "execution_count": 11,
   "outputs": [
    {
     "data": {
      "text/plain": "tensor(5.0658, grad_fn=<SumBackward0>)"
     },
     "execution_count": 11,
     "metadata": {},
     "output_type": "execute_result"
    }
   ],
   "source": [
    "t =x+b\n",
    "y=t.sum()\n",
    "y"
   ],
   "metadata": {
    "collapsed": false,
    "ExecuteTime": {
     "end_time": "2023-11-23T12:22:46.043559500Z",
     "start_time": "2023-11-23T12:22:46.032821900Z"
    }
   },
   "id": "b271dd4030d15519"
  },
  {
   "cell_type": "markdown",
   "source": [
    "损失函数自动求导"
   ],
   "metadata": {
    "collapsed": false
   },
   "id": "432200839293037b"
  },
  {
   "cell_type": "code",
   "execution_count": 13,
   "outputs": [],
   "source": [
    "y.backward()"
   ],
   "metadata": {
    "collapsed": false,
    "ExecuteTime": {
     "end_time": "2023-11-23T12:23:05.047575Z",
     "start_time": "2023-11-23T12:23:05.042041300Z"
    }
   },
   "id": "29cfb9ff7d6bf77b"
  },
  {
   "cell_type": "code",
   "execution_count": 14,
   "outputs": [
    {
     "data": {
      "text/plain": "tensor([[2., 2., 2., 2.],\n        [2., 2., 2., 2.],\n        [2., 2., 2., 2.]])"
     },
     "execution_count": 14,
     "metadata": {},
     "output_type": "execute_result"
    }
   ],
   "source": [
    "b.grad"
   ],
   "metadata": {
    "collapsed": false,
    "ExecuteTime": {
     "end_time": "2023-11-23T12:23:12.015887800Z",
     "start_time": "2023-11-23T12:23:12.006741400Z"
    }
   },
   "id": "88f961d961a109ca"
  },
  {
   "cell_type": "code",
   "execution_count": null,
   "outputs": [],
   "source": [],
   "metadata": {
    "collapsed": false
   },
   "id": "d78cc170d113181b"
  }
 ],
 "metadata": {
  "kernelspec": {
   "display_name": "Python 3",
   "language": "python",
   "name": "python3"
  },
  "language_info": {
   "codemirror_mode": {
    "name": "ipython",
    "version": 2
   },
   "file_extension": ".py",
   "mimetype": "text/x-python",
   "name": "python",
   "nbconvert_exporter": "python",
   "pygments_lexer": "ipython2",
   "version": "2.7.6"
  }
 },
 "nbformat": 4,
 "nbformat_minor": 5
}
