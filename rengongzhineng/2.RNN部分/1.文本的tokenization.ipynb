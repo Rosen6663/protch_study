{
 "cells": [
  {
   "cell_type": "markdown",
   "source": [
    "# tokenization\n",
    "## 1.概念\n",
    "分词，分出的每一个词语:token\n",
    "分词工具：\n",
    "jieba:https://github.com/fxsjy/jieba\n",
    "## 2.中英文分词方法\n",
    "+ 句子——>词语\n",
    "    我爱学习——>我，爱，学习\n",
    "+ 句子——>单个字\n",
    "    我爱学习——>我，爱，学，习\n",
    "## 3.N-garm表示方法\n"
   ],
   "metadata": {
    "collapsed": false
   },
   "id": "3c915189645d58ef"
  }
 ],
 "metadata": {
  "kernelspec": {
   "display_name": "Python 3",
   "language": "python",
   "name": "python3"
  },
  "language_info": {
   "codemirror_mode": {
    "name": "ipython",
    "version": 2
   },
   "file_extension": ".py",
   "mimetype": "text/x-python",
   "name": "python",
   "nbconvert_exporter": "python",
   "pygments_lexer": "ipython2",
   "version": "2.7.6"
  }
 },
 "nbformat": 4,
 "nbformat_minor": 5
}
