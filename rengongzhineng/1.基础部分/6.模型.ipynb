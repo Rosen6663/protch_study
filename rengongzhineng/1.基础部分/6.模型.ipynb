{
 "cells": [
  {
   "cell_type": "markdown",
   "source": [
    "# 模型篇\n",
    "## 第一部分\n",
    "### 构建模型\n",
    "![](myimg/构建模型.png)\n",
    "### 激活函数的使用\n",
    "![](myimg/激活函数.png)\n",
    "### 模型中数据的形状(添加形状变化图像）\n",
    "![](myimg/数据形状.png)\n",
    "## 第二部分\n",
    "### 激活后的损失函数\n",
    "![](myimg/损失函数.png)\n",
    "![](myimg/损失1.png)\n",
    "![](myimg/损失2.png)\n",
    "![](myimg/损失3.png)\n",
    "## 第三部分\n",
    "### 模型的训练\n",
    "训练流程\n",
    "1. 实例化模型，设置模型为训练模式\n",
    "2. 实例化优化器类，实例化损失函数\n",
    "3. 获取，遍历dataloader\n",
    "4. 梯度设为0\n",
    "5. 向前计算\n",
    "6. 计算损失\n",
    "7. 方向传播\n",
    "8. 更新参数\n",
    "![](myimg/模型训练.png)\n",
    "### 模型的保存和加载\n",
    "![](myimg/模型的保存和加载.png)\n",
    "### 模型的评估\n",
    "1. 不需要计算梯度\n",
    "2. 需要收集损失和准确率，用来计算平均损失和平均损失率\n",
    "3. 损失的计算和训练的损失计算方法相同\n",
    "4. 准确率的计算\n",
    "![](myimg/评估.png)\n",
    "![](myimg/评估1.png)\n"
   ],
   "metadata": {
    "collapsed": false
   },
   "id": "b2f1689aeceda6be"
  }
 ],
 "metadata": {
  "kernelspec": {
   "display_name": "Python 3",
   "language": "python",
   "name": "python3"
  },
  "language_info": {
   "codemirror_mode": {
    "name": "ipython",
    "version": 2
   },
   "file_extension": ".py",
   "mimetype": "text/x-python",
   "name": "python",
   "nbconvert_exporter": "python",
   "pygments_lexer": "ipython2",
   "version": "2.7.6"
  }
 },
 "nbformat": 4,
 "nbformat_minor": 5
}
