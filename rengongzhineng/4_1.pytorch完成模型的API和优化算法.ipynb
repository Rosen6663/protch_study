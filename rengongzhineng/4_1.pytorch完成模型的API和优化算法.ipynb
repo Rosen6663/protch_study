{
 "cells": [
  {
   "cell_type": "markdown",
   "source": [
    "# 一、pytorch完成模型常用API\n",
    "## nn.Module\n",
    "torch.nn提供的一个类，是pytorch的一个基类.\n",
    "注意：\n",
    "+ __init__需要调用super方法，继承父类的属性和方法\n",
    "+ forward方法必须实现，用来定义我们网络向前计算的过程\n",
    "如:y=w*x+b"
   ],
   "metadata": {
    "collapsed": false
   },
   "id": "a2468fb68e9b270a"
  },
  {
   "cell_type": "markdown",
   "source": [
    "1. nn.Liner为torch预定好的线性模型，也被称为全链接层，传入参数为输入的数量，输出数量（in_feature,out_feature)，是不算9batch_size)的列数\n",
    "2. nn.Moudke定义了__call__方法，实现就是调用forward方法，即Lr的实例"
   ],
   "metadata": {
    "collapsed": false
   },
   "id": "bf7fa5327465640e"
  },
  {
   "cell_type": "code",
   "execution_count": 2,
   "outputs": [
    {
     "ename": "NameError",
     "evalue": "name 'x' is not defined",
     "output_type": "error",
     "traceback": [
      "\u001B[1;31m---------------------------------------------------------------------------\u001B[0m",
      "\u001B[1;31mNameError\u001B[0m                                 Traceback (most recent call last)",
      "Cell \u001B[1;32mIn[2], line 13\u001B[0m\n\u001B[0;32m     10\u001B[0m         \u001B[38;5;28;01mreturn\u001B[39;00m out\n\u001B[0;32m     12\u001B[0m model \u001B[38;5;241m=\u001B[39mLr()\n\u001B[1;32m---> 13\u001B[0m predict \u001B[38;5;241m=\u001B[39m model(\u001B[43mx\u001B[49m)\n",
      "\u001B[1;31mNameError\u001B[0m: name 'x' is not defined"
     ]
    }
   ],
   "source": [
    "import torch\n",
    "from torch import nn\n",
    "class Lr(nn.Module):\n",
    "    def __init__(self):\n",
    "        super(Lr,self).__init__()\n",
    "        #输入的形状，输出的形状,就是设置的列\n",
    "        self.linear = nn.Linear(1,1)\n",
    "        \n",
    "    def forward(self,x):\n",
    "        out = self.linear(x)\n",
    "        return out\n",
    "\n",
    "model =Lr()\n",
    "predict = model(x)\n"
   ],
   "metadata": {
    "collapsed": false,
    "ExecuteTime": {
     "end_time": "2023-11-26T02:09:39.226450400Z",
     "start_time": "2023-11-26T02:09:39.155732900Z"
    }
   },
   "id": "aa1e1f79d59c1e53"
  },
  {
   "cell_type": "markdown",
   "source": [
    "## 2.优化器\n",
    "+ 封装更新参数的方法，如：梯度下降\n",
    "+ torch.optim提供的\n",
    "    + torch.optim.SGD(参数，学习率)\n",
    "    + torch.optim.Adam(参数，学习率)\n",
    "注意：参数可以用model.parameters()获取，获取模型中所有requires_grad=True的参数\n",
    "优化器的使用方法\n",
    "1. 实例化\n",
    "2. 所有参数的梯度，将其值设为0\n",
    "3. 反向传播计算梯度\n",
    "4. 更新参数值"
   ],
   "metadata": {
    "collapsed": false
   },
   "id": "f94a575b836a71e9"
  },
  {
   "cell_type": "code",
   "execution_count": null,
   "outputs": [],
   "source": [
    "from torch import  optim\n",
    "optimizer = optim.SGD((model.parameters(),lr=1e-3)\n",
    "optimizer.zero_grad()#2.梯度设为0\n",
    "loss.backward()#计算梯度\n",
    "optimizer.step()#更新参数"
   ],
   "metadata": {
    "collapsed": false
   },
   "id": "7f045d68a030d93b"
  },
  {
   "cell_type": "markdown",
   "source": [
    "# 3.损失函数\n",
    "+ 均方误差:nn.MSELoss,常用分类问题\n",
    "+ 交叉熵损失:nn.CrossEnteropyLoss()，常用于逻辑回归"
   ],
   "metadata": {
    "collapsed": false
   },
   "id": "f292b8c433549625"
  },
  {
   "cell_type": "code",
   "execution_count": null,
   "outputs": [],
   "source": [
    "from torch import optim\n",
    "model =Lr()#1.实例化模型\n",
    "criterion = nn.MSELoss()#2.实例化损失函数\n",
    "optimizer = optim.SGD(model.parameters(),lr=1e-3)#实例化优化器类\n",
    "for i in range(100):\n",
    "    y_predict =model(x_true)#4.向前计算预测值\n",
    "    loss = criterion(y_true,y_predict)#5.调用损失函数传入真实和预测值，得到损失结构\n",
    "    optimizer.zero_grad()#5，设置参数梯度为0\n",
    "    loss.backward()#6.计算梯度\n",
    "    optimizer.step()#7.更新参数的值"
   ],
   "metadata": {
    "collapsed": false
   },
   "id": "cf1e171866d0012a"
  },
  {
   "cell_type": "markdown",
   "source": [
    "# 二、GPU上运行代码\n",
    "如果模型太大，参数太多的情况下，为了加快训练速度，经常使用GPU来训练\n",
    "## 1.判断GPU是否可用yorch.cuda.is_available()\n",
    "device(type='cuda', index=0)#代表使用gpu\n",
    "device(type='cpu')#代表使用cpu"
   ],
   "metadata": {
    "collapsed": false
   },
   "id": "84b5db4f7a600024"
  },
  {
   "cell_type": "code",
   "execution_count": 2,
   "outputs": [
    {
     "data": {
      "text/plain": "device(type='cuda', index=0)"
     },
     "execution_count": 2,
     "metadata": {},
     "output_type": "execute_result"
    }
   ],
   "source": [
    "import torch\n",
    "torch.device(\"cuda:0\" if torch.cuda.is_available()else \"cpu\" )"
   ],
   "metadata": {
    "collapsed": false,
    "ExecuteTime": {
     "end_time": "2023-11-30T13:55:29.588278Z",
     "start_time": "2023-11-30T13:55:29.579792100Z"
    }
   },
   "id": "2fca240d3ded1974"
  },
  {
   "cell_type": "markdown",
   "source": [
    "## 2.把模型参数和input数据转化为cuda的支持的类型"
   ],
   "metadata": {
    "collapsed": false
   },
   "id": "ffd09e9d1b268f95"
  },
  {
   "cell_type": "code",
   "execution_count": 3,
   "outputs": [
    {
     "ename": "NameError",
     "evalue": "name 'model' is not defined",
     "output_type": "error",
     "traceback": [
      "\u001B[1;31m---------------------------------------------------------------------------\u001B[0m",
      "\u001B[1;31mNameError\u001B[0m                                 Traceback (most recent call last)",
      "Cell \u001B[1;32mIn[3], line 1\u001B[0m\n\u001B[1;32m----> 1\u001B[0m \u001B[43mmodel\u001B[49m\u001B[38;5;241m.\u001B[39mto(device)\n\u001B[0;32m      2\u001B[0m x\u001B[38;5;241m.\u001B[39mtrue\u001B[38;5;241m.\u001B[39mto(device)\n",
      "\u001B[1;31mNameError\u001B[0m: name 'model' is not defined"
     ]
    }
   ],
   "source": [
    "model.to(device)\n",
    "x.true.to(device)"
   ],
   "metadata": {
    "collapsed": false,
    "ExecuteTime": {
     "end_time": "2023-11-30T13:57:23.487171100Z",
     "start_time": "2023-11-30T13:57:23.395261Z"
    }
   },
   "id": "76c328e20108e695"
  },
  {
   "cell_type": "markdown",
   "source": [
    "## 3.再GPU上计算结果也为cuda的数据类型，需要转化为numpy或者torch的cpu的tensor类型"
   ],
   "metadata": {
    "collapsed": false
   },
   "id": "f84ce9e54c80503a"
  },
  {
   "cell_type": "code",
   "execution_count": 4,
   "outputs": [
    {
     "ename": "NameError",
     "evalue": "name 'predict' is not defined",
     "output_type": "error",
     "traceback": [
      "\u001B[1;31m---------------------------------------------------------------------------\u001B[0m",
      "\u001B[1;31mNameError\u001B[0m                                 Traceback (most recent call last)",
      "Cell \u001B[1;32mIn[4], line 1\u001B[0m\n\u001B[1;32m----> 1\u001B[0m predict \u001B[38;5;241m=\u001B[39m \u001B[43mpredict\u001B[49m\u001B[38;5;241m.\u001B[39mcpu()\u001B[38;5;241m.\u001B[39mdetach()\u001B[38;5;241m.\u001B[39mnumpy()\n",
      "\u001B[1;31mNameError\u001B[0m: name 'predict' is not defined"
     ]
    }
   ],
   "source": [
    "predict = predict.cpu().detach().numpy()"
   ],
   "metadata": {
    "collapsed": false,
    "ExecuteTime": {
     "end_time": "2023-11-30T13:58:27.721393800Z",
     "start_time": "2023-11-30T13:58:27.708907100Z"
    }
   },
   "id": "54096d4ca876c53"
  },
  {
   "cell_type": "markdown",
   "source": [
    "# 三、优化算法的介绍\n",
    "## 1.梯度下降算法\n",
    "![](myimg/优化器算法1.png)\n",
    "## 2.随机梯度下降算法\n",
    "![](myimg/优化器算法2.png)\n",
    "## 3.小批量梯度下降算法\n",
    "![](myimg/优化器算法3.png)\n",
    "## 4.动量法\n",
    "![](myimg/优化器算法4.png)\n",
    "## 5.AdaGrad\n",
    "![](myimg/优化器算法5.png)\n",
    "## 6.RMSProp\n",
    "![](myimg/优化器算法6.png)\n",
    "## 7.Adam\n",
    "![](myimg/优化器算法7.png)\n"
   ],
   "metadata": {
    "collapsed": false
   },
   "id": "1a2c144c3ad2265c"
  }
 ],
 "metadata": {
  "kernelspec": {
   "display_name": "Python 3",
   "language": "python",
   "name": "python3"
  },
  "language_info": {
   "codemirror_mode": {
    "name": "ipython",
    "version": 2
   },
   "file_extension": ".py",
   "mimetype": "text/x-python",
   "name": "python",
   "nbconvert_exporter": "python",
   "pygments_lexer": "ipython2",
   "version": "2.7.6"
  }
 },
 "nbformat": 4,
 "nbformat_minor": 5
}
