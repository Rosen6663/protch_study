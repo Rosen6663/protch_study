{
 "cells": [
  {
   "cell_type": "markdown",
   "source": [
    "# 一.张量Tensor\n",
    "张量是一个统称\n",
    "1. 0阶张量：标量：常数：scaler:0-D Tensor \n",
    "2. 1阶张量：向量：vector:1-D Tensor\n",
    "3. 2阶张量：矩阵:matrix:2-D Tensor\n",
    "...\n",
    "# 二.Pytorch创建张量"
   ],
   "metadata": {
    "collapsed": false
   },
   "id": "ae92b4a6a0b1e34a"
  },
  {
   "cell_type": "code",
   "execution_count": 2,
   "id": "initial_id",
   "metadata": {
    "collapsed": true,
    "ExecuteTime": {
     "end_time": "2023-12-07T11:11:48.645512700Z",
     "start_time": "2023-12-07T11:11:43.785839100Z"
    }
   },
   "outputs": [],
   "source": [
    "import numpy as np\n",
    "import torch"
   ]
  },
  {
   "cell_type": "markdown",
   "source": [
    "大写Tensor为小数，小写为整数"
   ],
   "metadata": {
    "collapsed": false
   },
   "id": "e99800c0b1258d88"
  },
  {
   "cell_type": "code",
   "execution_count": 3,
   "outputs": [
    {
     "data": {
      "text/plain": "tensor([1, 2, 3])"
     },
     "execution_count": 3,
     "metadata": {},
     "output_type": "execute_result"
    }
   ],
   "source": [
    "t1=torch.Tensor([1,2,3])\n",
    "t1\n"
   ],
   "metadata": {
    "collapsed": false,
    "ExecuteTime": {
     "end_time": "2023-12-07T11:11:48.677807100Z",
     "start_time": "2023-12-07T11:11:48.646510700Z"
    }
   },
   "id": "909b3505b181fbb7"
  },
  {
   "cell_type": "code",
   "execution_count": null,
   "outputs": [],
   "source": [
    "t2 =torch.tensor([1,2,3])\n",
    "t2"
   ],
   "metadata": {
    "collapsed": false
   },
   "id": "feb51b201ca0debc"
  },
  {
   "cell_type": "code",
   "execution_count": 26,
   "outputs": [
    {
     "data": {
      "text/plain": "tensor([[0.6904, 0.9293, 0.7731],\n        [0.5788, 0.1320, 0.8714]])"
     },
     "execution_count": 26,
     "metadata": {},
     "output_type": "execute_result"
    }
   ],
   "source": [],
   "metadata": {
    "collapsed": false,
    "ExecuteTime": {
     "end_time": "2023-12-07T11:12:49.057312600Z",
     "start_time": "2023-12-07T11:12:49.039589500Z"
    }
   },
   "id": "1569776b35d54850"
  },
  {
   "cell_type": "markdown",
   "source": [
    "np.arange([start, ]stop, [step, ]dtype=None)\n",
    "从哪个数开始，到那个数结束，步长是多长"
   ],
   "metadata": {
    "collapsed": false
   },
   "id": "2fb93aa3b2e472f"
  },
  {
   "cell_type": "code",
   "execution_count": 28,
   "outputs": [
    {
     "data": {
      "text/plain": "array([[ 0,  1,  2,  3],\n       [ 4,  5,  6,  7],\n       [ 8,  9, 10, 11]])"
     },
     "execution_count": 28,
     "metadata": {},
     "output_type": "execute_result"
    }
   ],
   "source": [
    "array1 = np.arange(12).reshape(3,4)\n",
    "array1"
   ],
   "metadata": {
    "collapsed": false,
    "ExecuteTime": {
     "end_time": "2023-12-07T11:14:41.898365500Z",
     "start_time": "2023-12-07T11:14:41.887147500Z"
    }
   },
   "id": "19568d767cd45e32"
  },
  {
   "cell_type": "markdown",
   "source": [
    "torch和num转换"
   ],
   "metadata": {
    "collapsed": false
   },
   "id": "eb966b801ad49195"
  },
  {
   "cell_type": "code",
   "execution_count": 30,
   "outputs": [
    {
     "data": {
      "text/plain": "tensor([[ 0,  1,  2,  3],\n        [ 4,  5,  6,  7],\n        [ 8,  9, 10, 11]], dtype=torch.int32)"
     },
     "execution_count": 30,
     "metadata": {},
     "output_type": "execute_result"
    }
   ],
   "source": [
    "torch.Tensor(array1)"
   ],
   "metadata": {
    "collapsed": false,
    "ExecuteTime": {
     "end_time": "2023-12-07T11:14:57.291491300Z",
     "start_time": "2023-12-07T11:14:57.259103400Z"
    }
   },
   "id": "f635cedba8555cc1"
  },
  {
   "cell_type": "markdown",
   "source": [
    "## 1.torch的api创建tensor\n",
    "+ torch.empty(3,4):3行4列的空tensor\n",
    "+ torch.ones([3,4]):3行4列的全为1tensor\n",
    "+ torch.zeros([3,4]):3行4列的全为0tensor\n",
    "+ torch.rand([3,4]):3行4列的随机数tensor"
   ],
   "metadata": {
    "collapsed": false
   },
   "id": "68d46b2066e85964"
  },
  {
   "cell_type": "code",
   "execution_count": 26,
   "outputs": [
    {
     "data": {
      "text/plain": "tensor([[0., 0., 0., 0.],\n        [0., 0., 0., 0.],\n        [0., 0., 0., 0.]])"
     },
     "execution_count": 26,
     "metadata": {},
     "output_type": "execute_result"
    }
   ],
   "source": [
    "torch.empty(3,4)"
   ],
   "metadata": {
    "collapsed": false,
    "ExecuteTime": {
     "end_time": "2023-11-23T12:54:53.801524900Z",
     "start_time": "2023-11-23T12:54:53.791492700Z"
    }
   },
   "id": "db7a560a21b5948c"
  },
  {
   "cell_type": "markdown",
   "source": [
    "### 2.rand部分"
   ],
   "metadata": {
    "collapsed": false
   },
   "id": "a820415763ed1aa4"
  },
  {
   "cell_type": "code",
   "execution_count": 29,
   "outputs": [
    {
     "data": {
      "text/plain": "tensor([[0.4712, 0.4505, 0.1136, 0.9068],\n        [0.2866, 0.3578, 0.6065, 0.9174],\n        [0.5756, 0.4597, 0.7982, 0.0219]])"
     },
     "execution_count": 29,
     "metadata": {},
     "output_type": "execute_result"
    }
   ],
   "source": [
    "torch.rand(3,4)"
   ],
   "metadata": {
    "collapsed": false,
    "ExecuteTime": {
     "end_time": "2023-11-23T12:55:39.145685Z",
     "start_time": "2023-11-23T12:55:39.137413900Z"
    }
   },
   "id": "dedd8ce8c46f352c"
  },
  {
   "cell_type": "markdown",
   "source": [
    "区间：[low,high)"
   ],
   "metadata": {
    "collapsed": false
   },
   "id": "71940903aa7504e1"
  },
  {
   "cell_type": "code",
   "execution_count": 31,
   "outputs": [
    {
     "data": {
      "text/plain": "tensor([[5, 8, 7, 0],\n        [8, 6, 5, 2],\n        [6, 3, 2, 1]])"
     },
     "execution_count": 31,
     "metadata": {},
     "output_type": "execute_result"
    }
   ],
   "source": [
    "torch.randint(low=0,high=10,size=[3,4])"
   ],
   "metadata": {
    "collapsed": false,
    "ExecuteTime": {
     "end_time": "2023-11-23T13:01:30.433081100Z",
     "start_time": "2023-11-23T13:01:30.423051500Z"
    }
   },
   "id": "a67518cee48f2c9e"
  },
  {
   "cell_type": "markdown",
   "source": [
    "满足正态分布的随机数"
   ],
   "metadata": {
    "collapsed": false
   },
   "id": "653040e1b98c0ecc"
  },
  {
   "cell_type": "code",
   "execution_count": 33,
   "outputs": [
    {
     "data": {
      "text/plain": "tensor([[-0.1704, -0.1806,  0.1441, -0.1719],\n        [-1.3407,  1.0998, -0.2443, -0.5404],\n        [ 0.2771,  1.1747, -0.0433, -0.9056]])"
     },
     "execution_count": 33,
     "metadata": {},
     "output_type": "execute_result"
    }
   ],
   "source": [
    "torch.randn([3,4])"
   ],
   "metadata": {
    "collapsed": false,
    "ExecuteTime": {
     "end_time": "2023-11-23T13:01:55.645692600Z",
     "start_time": "2023-11-23T13:01:55.638071900Z"
    }
   },
   "id": "be88eca8a16ac3e6"
  },
  {
   "cell_type": "markdown",
   "source": [
    "# 三. Pytorch的tensor的常用方法"
   ],
   "metadata": {
    "collapsed": false
   },
   "id": "39f835f75f827993"
  },
  {
   "cell_type": "code",
   "execution_count": 38,
   "outputs": [
    {
     "data": {
      "text/plain": "tensor([[[1.]]])"
     },
     "execution_count": 38,
     "metadata": {},
     "output_type": "execute_result"
    }
   ],
   "source": [
    "t1 =torch.Tensor([[[1]]])\n",
    "t1"
   ],
   "metadata": {
    "collapsed": false,
    "ExecuteTime": {
     "end_time": "2023-12-07T11:15:57.749628300Z",
     "start_time": "2023-12-07T11:15:57.734911400Z"
    }
   },
   "id": "695471b9ff400741"
  },
  {
   "cell_type": "markdown",
   "source": [
    "## 1.获取tensor数据，只有中间的值的时候"
   ],
   "metadata": {
    "collapsed": false
   },
   "id": "5a85e131955cb0f5"
  },
  {
   "cell_type": "code",
   "execution_count": 37,
   "outputs": [
    {
     "data": {
      "text/plain": "1.0"
     },
     "execution_count": 37,
     "metadata": {},
     "output_type": "execute_result"
    }
   ],
   "source": [
    "t1.item()"
   ],
   "metadata": {
    "collapsed": false,
    "ExecuteTime": {
     "end_time": "2023-12-07T11:15:52.424595300Z",
     "start_time": "2023-12-07T11:15:52.412215800Z"
    }
   },
   "id": "d975ccbdef7ab62e"
  },
  {
   "cell_type": "markdown",
   "source": [
    "如果里面有两个数呢:将会报错，只有标量才能获得"
   ],
   "metadata": {
    "collapsed": false
   },
   "id": "9ce3662262c4bc9a"
  },
  {
   "cell_type": "code",
   "execution_count": 42,
   "outputs": [
    {
     "ename": "RuntimeError",
     "evalue": "a Tensor with 2 elements cannot be converted to Scalar",
     "output_type": "error",
     "traceback": [
      "\u001B[1;31m---------------------------------------------------------------------------\u001B[0m",
      "\u001B[1;31mRuntimeError\u001B[0m                              Traceback (most recent call last)",
      "Cell \u001B[1;32mIn[42], line 2\u001B[0m\n\u001B[0;32m      1\u001B[0m t2 \u001B[38;5;241m=\u001B[39m torch\u001B[38;5;241m.\u001B[39mTensor([[[\u001B[38;5;241m1\u001B[39m,\u001B[38;5;241m2\u001B[39m]]])\n\u001B[1;32m----> 2\u001B[0m \u001B[43mt2\u001B[49m\u001B[38;5;241;43m.\u001B[39;49m\u001B[43mitem\u001B[49m\u001B[43m(\u001B[49m\u001B[43m)\u001B[49m\n",
      "\u001B[1;31mRuntimeError\u001B[0m: a Tensor with 2 elements cannot be converted to Scalar"
     ]
    }
   ],
   "source": [
    "t2 = torch.Tensor([[[1,2]]])\n",
    "t2.item()"
   ],
   "metadata": {
    "collapsed": false,
    "ExecuteTime": {
     "end_time": "2023-12-07T11:17:09.026335600Z",
     "start_time": "2023-12-07T11:17:08.995419100Z"
    }
   },
   "id": "cfda80611a62a8d"
  },
  {
   "cell_type": "markdown",
   "source": [
    "## 2.转为numpy类型"
   ],
   "metadata": {
    "collapsed": false
   },
   "id": "da384db5d88a32a6"
  },
  {
   "cell_type": "code",
   "execution_count": 43,
   "outputs": [
    {
     "data": {
      "text/plain": "array([[[1., 2.]]], dtype=float32)"
     },
     "execution_count": 43,
     "metadata": {},
     "output_type": "execute_result"
    }
   ],
   "source": [
    "t2.numpy()"
   ],
   "metadata": {
    "collapsed": false,
    "ExecuteTime": {
     "end_time": "2023-12-07T11:17:17.398413400Z",
     "start_time": "2023-12-07T11:17:17.392529500Z"
    }
   },
   "id": "9979dc0585ef126d"
  },
  {
   "cell_type": "markdown",
   "source": [
    "## 3.获取形状\n",
    "size可以查看具体的维度"
   ],
   "metadata": {
    "collapsed": false
   },
   "id": "d9ef3a03d6a0629"
  },
  {
   "cell_type": "code",
   "execution_count": 56,
   "outputs": [
    {
     "data": {
      "text/plain": "2"
     },
     "execution_count": 56,
     "metadata": {},
     "output_type": "execute_result"
    }
   ],
   "source": [
    "t2.size(2)\n",
    "t2.size(-1)"
   ],
   "metadata": {
    "collapsed": false,
    "ExecuteTime": {
     "end_time": "2023-12-07T11:17:27.543342700Z",
     "start_time": "2023-12-07T11:17:27.536232700Z"
    }
   },
   "id": "7bcce1c64f6af77d"
  },
  {
   "cell_type": "code",
   "execution_count": 65,
   "outputs": [
    {
     "data": {
      "text/plain": "torch.Size([1, 1, 2])"
     },
     "execution_count": 65,
     "metadata": {},
     "output_type": "execute_result"
    }
   ],
   "source": [
    "t2.size()"
   ],
   "metadata": {
    "collapsed": false,
    "ExecuteTime": {
     "end_time": "2023-12-07T11:18:29.158067100Z",
     "start_time": "2023-12-07T11:18:29.134542900Z"
    }
   },
   "id": "ae8d6a45a7b27a83"
  },
  {
   "cell_type": "markdown",
   "source": [
    "## 4.形状改变\n",
    "浅拷贝，仅仅改变形状"
   ],
   "metadata": {
    "collapsed": false
   },
   "id": "40e0a85bfb059ba8"
  },
  {
   "cell_type": "code",
   "execution_count": 70,
   "outputs": [
    {
     "data": {
      "text/plain": "torch.Size([1, 2])"
     },
     "execution_count": 70,
     "metadata": {},
     "output_type": "execute_result"
    }
   ],
   "source": [
    "t2.view([1,2])"
   ],
   "metadata": {
    "collapsed": false,
    "ExecuteTime": {
     "end_time": "2023-12-07T11:19:23.982766600Z",
     "start_time": "2023-12-07T11:19:23.974402500Z"
    }
   },
   "id": "6af27495af9f5275"
  },
  {
   "cell_type": "code",
   "execution_count": 71,
   "outputs": [
    {
     "data": {
      "text/plain": "torch.Size([2])"
     },
     "execution_count": 71,
     "metadata": {},
     "output_type": "execute_result"
    }
   ],
   "source": [
    "t2.view(-1)"
   ],
   "metadata": {
    "collapsed": false,
    "ExecuteTime": {
     "end_time": "2023-12-07T11:19:30.913371300Z",
     "start_time": "2023-12-07T11:19:30.907038500Z"
    }
   },
   "id": "506cd0a0e4baf425"
  },
  {
   "cell_type": "code",
   "execution_count": 72,
   "outputs": [
    {
     "data": {
      "text/plain": "torch.Size([2, 1])"
     },
     "execution_count": 72,
     "metadata": {},
     "output_type": "execute_result"
    }
   ],
   "source": [
    "t2.view(2,-1)"
   ],
   "metadata": {
    "collapsed": false,
    "ExecuteTime": {
     "end_time": "2023-12-07T11:19:53.698786900Z",
     "start_time": "2023-12-07T11:19:53.689599300Z"
    }
   },
   "id": "bb6892912ff48df9"
  },
  {
   "cell_type": "markdown",
   "source": [
    "## 5.获取维数"
   ],
   "metadata": {
    "collapsed": false
   },
   "id": "c33a93e745afb7f0"
  },
  {
   "cell_type": "code",
   "execution_count": 73,
   "outputs": [
    {
     "data": {
      "text/plain": "3"
     },
     "execution_count": 73,
     "metadata": {},
     "output_type": "execute_result"
    }
   ],
   "source": [
    "t2.dim()"
   ],
   "metadata": {
    "collapsed": false,
    "ExecuteTime": {
     "end_time": "2023-12-07T11:20:14.269049Z",
     "start_time": "2023-12-07T11:20:14.260748700Z"
    }
   },
   "id": "f14b56e06d7eee2a"
  },
  {
   "cell_type": "markdown",
   "source": [
    "## 6.获取最大值最小值"
   ],
   "metadata": {
    "collapsed": false
   },
   "id": "8ec65c05dee3996"
  },
  {
   "cell_type": "code",
   "execution_count": 74,
   "outputs": [
    {
     "data": {
      "text/plain": "tensor(2.)"
     },
     "execution_count": 74,
     "metadata": {},
     "output_type": "execute_result"
    }
   ],
   "source": [
    "t2.max()"
   ],
   "metadata": {
    "collapsed": false,
    "ExecuteTime": {
     "end_time": "2023-12-07T11:20:16.507774600Z",
     "start_time": "2023-12-07T11:20:16.482916900Z"
    }
   },
   "id": "31f64210173cb144"
  },
  {
   "cell_type": "code",
   "execution_count": 78,
   "outputs": [
    {
     "data": {
      "text/plain": "tensor(0.7071)"
     },
     "execution_count": 78,
     "metadata": {},
     "output_type": "execute_result"
    }
   ],
   "source": [
    "t2.min()\n",
    "t2.std()"
   ],
   "metadata": {
    "collapsed": false,
    "ExecuteTime": {
     "end_time": "2023-12-07T11:20:31.772781200Z",
     "start_time": "2023-12-07T11:20:31.746585700Z"
    }
   },
   "id": "7a19c216ecddd96c"
  },
  {
   "cell_type": "markdown",
   "source": [
    "## 7.转置"
   ],
   "metadata": {
    "collapsed": false
   },
   "id": "12226e8a044e4dcf"
  },
  {
   "cell_type": "code",
   "execution_count": 88,
   "outputs": [
    {
     "data": {
      "text/plain": "tensor([[[ 0.,  1.,  2.,  3.],\n         [ 4.,  5.,  6.,  7.],\n         [ 8.,  9., 10., 11.]],\n\n        [[12., 13., 14., 15.],\n         [16., 17., 18., 19.],\n         [20., 21., 22., 23.]]])"
     },
     "execution_count": 88,
     "metadata": {},
     "output_type": "execute_result"
    }
   ],
   "source": [
    "t3 =torch.Tensor(np.arange(24).reshape(2,3,4))\n",
    "t3"
   ],
   "metadata": {
    "collapsed": false,
    "ExecuteTime": {
     "end_time": "2023-12-07T11:22:15.336496900Z",
     "start_time": "2023-12-07T11:22:15.331895600Z"
    }
   },
   "id": "d06fbad72e565df1"
  },
  {
   "cell_type": "code",
   "execution_count": 84,
   "outputs": [
    {
     "data": {
      "text/plain": "torch.Size([2, 3, 4])"
     },
     "execution_count": 84,
     "metadata": {},
     "output_type": "execute_result"
    }
   ],
   "source": [
    "t3.size()"
   ],
   "metadata": {
    "collapsed": false,
    "ExecuteTime": {
     "end_time": "2023-11-23T13:46:19.407414500Z",
     "start_time": "2023-11-23T13:46:19.393226Z"
    }
   },
   "id": "9ce8c3654a68b750"
  },
  {
   "cell_type": "markdown",
   "source": [
    "将0，1维度交换"
   ],
   "metadata": {
    "collapsed": false
   },
   "id": "f3765ca2c301397b"
  },
  {
   "cell_type": "code",
   "execution_count": 84,
   "outputs": [
    {
     "data": {
      "text/plain": "tensor([[0.6904, 0.5788],\n        [0.9293, 0.1320],\n        [0.7731, 0.8714]])"
     },
     "execution_count": 84,
     "metadata": {},
     "output_type": "execute_result"
    }
   ],
   "source": [
    "t3.transpose(0,1)"
   ],
   "metadata": {
    "collapsed": false,
    "ExecuteTime": {
     "end_time": "2023-12-07T11:22:03.319410400Z",
     "start_time": "2023-12-07T11:22:03.307218500Z"
    }
   },
   "id": "ec6e5cf7611ddbd8"
  },
  {
   "cell_type": "markdown",
   "source": [
    "轴交换"
   ],
   "metadata": {
    "collapsed": false
   },
   "id": "4cbfa35c37161dc9"
  },
  {
   "cell_type": "code",
   "execution_count": 90,
   "outputs": [
    {
     "data": {
      "text/plain": "torch.Size([3, 4, 2])"
     },
     "execution_count": 90,
     "metadata": {},
     "output_type": "execute_result"
    }
   ],
   "source": [
    "t3.permute(1,2,0).size()"
   ],
   "metadata": {
    "collapsed": false,
    "ExecuteTime": {
     "end_time": "2023-12-07T11:22:22.654644800Z",
     "start_time": "2023-12-07T11:22:22.646930500Z"
    }
   },
   "id": "6a2fcad4cadcadeb"
  },
  {
   "cell_type": "markdown",
   "source": [
    "## 8.取值"
   ],
   "metadata": {
    "collapsed": false
   },
   "id": "433643ab754e6d3d"
  },
  {
   "cell_type": "code",
   "execution_count": 91,
   "outputs": [
    {
     "data": {
      "text/plain": "tensor([[[ 0., 12.],\n         [ 1., 13.],\n         [ 2., 14.],\n         [ 3., 15.]],\n\n        [[ 4., 16.],\n         [ 5., 17.],\n         [ 6., 18.],\n         [ 7., 19.]],\n\n        [[ 8., 20.],\n         [ 9., 21.],\n         [10., 22.],\n         [11., 23.]]])"
     },
     "execution_count": 91,
     "metadata": {},
     "output_type": "execute_result"
    }
   ],
   "source": [
    "t4=t3.permute(1,2,0)\n",
    "t4"
   ],
   "metadata": {
    "collapsed": false,
    "ExecuteTime": {
     "end_time": "2023-12-07T11:22:36.605829900Z",
     "start_time": "2023-12-07T11:22:36.593622700Z"
    }
   },
   "id": "e017eb9ddab56860"
  },
  {
   "cell_type": "code",
   "execution_count": 94,
   "outputs": [
    {
     "data": {
      "text/plain": "tensor(0.)"
     },
     "execution_count": 94,
     "metadata": {},
     "output_type": "execute_result"
    }
   ],
   "source": [
    "t4[0,0,0]"
   ],
   "metadata": {
    "collapsed": false,
    "ExecuteTime": {
     "end_time": "2023-12-07T11:22:47.700030300Z",
     "start_time": "2023-12-07T11:22:47.681568Z"
    }
   },
   "id": "199cc2b145e3c5e9"
  },
  {
   "cell_type": "code",
   "execution_count": 100,
   "outputs": [
    {
     "data": {
      "text/plain": "tensor([[10., 12.],\n        [ 1., 13.],\n        [ 2., 14.],\n        [ 3., 15.]])"
     },
     "execution_count": 100,
     "metadata": {},
     "output_type": "execute_result"
    }
   ],
   "source": [
    "t4[0]"
   ],
   "metadata": {
    "collapsed": false,
    "ExecuteTime": {
     "end_time": "2023-11-23T13:55:26.436010600Z",
     "start_time": "2023-11-23T13:55:26.424946500Z"
    }
   },
   "id": "1f03ff4d5b272e6c"
  },
  {
   "cell_type": "code",
   "execution_count": 99,
   "outputs": [],
   "source": [
    "t4[0][0][0]=10"
   ],
   "metadata": {
    "collapsed": false,
    "ExecuteTime": {
     "end_time": "2023-11-23T13:55:24.931158700Z",
     "start_time": "2023-11-23T13:55:24.927957600Z"
    }
   },
   "id": "3122df1e016eec7"
  },
  {
   "cell_type": "code",
   "execution_count": 101,
   "outputs": [
    {
     "data": {
      "text/plain": "tensor([[[10., 12.],\n         [ 1., 13.],\n         [ 2., 14.],\n         [ 3., 15.]],\n\n        [[ 4., 16.],\n         [ 5., 17.],\n         [ 6., 18.],\n         [ 7., 19.]],\n\n        [[ 8., 20.],\n         [ 9., 21.],\n         [10., 22.],\n         [11., 23.]]])"
     },
     "execution_count": 101,
     "metadata": {},
     "output_type": "execute_result"
    }
   ],
   "source": [
    "t4"
   ],
   "metadata": {
    "collapsed": false,
    "ExecuteTime": {
     "end_time": "2023-11-23T13:55:28.526118800Z",
     "start_time": "2023-11-23T13:55:28.520067700Z"
    }
   },
   "id": "1918829b25d9bb2d"
  },
  {
   "cell_type": "markdown",
   "source": [
    "## 9.tensor切片"
   ],
   "metadata": {
    "collapsed": false
   },
   "id": "a1e90b08fa8034d2"
  },
  {
   "cell_type": "code",
   "execution_count": 96,
   "outputs": [
    {
     "data": {
      "text/plain": "tensor([[ 0., 12.],\n        [ 4., 16.],\n        [ 8., 20.]])"
     },
     "execution_count": 96,
     "metadata": {},
     "output_type": "execute_result"
    }
   ],
   "source": [
    "t4[:,0]"
   ],
   "metadata": {
    "collapsed": false,
    "ExecuteTime": {
     "end_time": "2023-12-07T11:23:26.928274100Z",
     "start_time": "2023-12-07T11:23:26.899668Z"
    }
   },
   "id": "8d89a16726ccb13a"
  },
  {
   "cell_type": "markdown",
   "source": [
    "# 四.tenor的数据类型\n",
    "![](myimg/img.png)"
   ],
   "metadata": {
    "collapsed": false
   },
   "id": "90ea7d6be96d6261"
  },
  {
   "cell_type": "code",
   "execution_count": 97,
   "outputs": [
    {
     "data": {
      "text/plain": "torch.float32"
     },
     "execution_count": 97,
     "metadata": {},
     "output_type": "execute_result"
    }
   ],
   "source": [
    "t4.dtype"
   ],
   "metadata": {
    "collapsed": false,
    "ExecuteTime": {
     "end_time": "2023-12-07T11:23:33.105485900Z",
     "start_time": "2023-12-07T11:23:33.077884Z"
    }
   },
   "id": "b8a9ed0592d169ba"
  },
  {
   "cell_type": "code",
   "execution_count": 98,
   "outputs": [
    {
     "data": {
      "text/plain": "tensor([1.], dtype=torch.float64)"
     },
     "execution_count": 98,
     "metadata": {},
     "output_type": "execute_result"
    }
   ],
   "source": [
    "t5 = torch.tensor([1],dtype=torch.double)\n",
    "t5"
   ],
   "metadata": {
    "collapsed": false,
    "ExecuteTime": {
     "end_time": "2023-12-07T11:23:35.473396100Z",
     "start_time": "2023-12-07T11:23:35.460414700Z"
    }
   },
   "id": "318371755bb09c5e"
  },
  {
   "cell_type": "code",
   "execution_count": 113,
   "outputs": [],
   "source": [
    "t6=torch.ones((4,3),dtype=torch.double)"
   ],
   "metadata": {
    "collapsed": false,
    "ExecuteTime": {
     "end_time": "2023-11-23T14:04:42.065470800Z",
     "start_time": "2023-11-23T14:04:42.053928400Z"
    }
   },
   "id": "74b7128397a44bff"
  },
  {
   "cell_type": "code",
   "execution_count": 116,
   "outputs": [
    {
     "data": {
      "text/plain": "torch.float64"
     },
     "execution_count": 116,
     "metadata": {},
     "output_type": "execute_result"
    }
   ],
   "source": [
    "t6.dtype"
   ],
   "metadata": {
    "collapsed": false,
    "ExecuteTime": {
     "end_time": "2023-11-23T14:05:19.846970800Z",
     "start_time": "2023-11-23T14:05:19.817567900Z"
    }
   },
   "id": "d7401e7af46eb1ce"
  },
  {
   "cell_type": "code",
   "execution_count": 136,
   "outputs": [
    {
     "data": {
      "text/plain": "tensor([[1, 1, 1],\n        [1, 1, 1],\n        [1, 1, 1],\n        [1, 1, 1]], dtype=torch.int32)"
     },
     "execution_count": 136,
     "metadata": {},
     "output_type": "execute_result"
    }
   ],
   "source": [
    "t6.int()"
   ],
   "metadata": {
    "collapsed": false,
    "ExecuteTime": {
     "end_time": "2023-11-23T14:06:45.890573300Z",
     "start_time": "2023-11-23T14:06:45.876442200Z"
    }
   },
   "id": "47cda87a34390a8a"
  },
  {
   "cell_type": "code",
   "execution_count": 138,
   "outputs": [
    {
     "data": {
      "text/plain": "torch.float64"
     },
     "execution_count": 138,
     "metadata": {},
     "output_type": "execute_result"
    }
   ],
   "source": [
    "t6.dtype"
   ],
   "metadata": {
    "collapsed": false,
    "ExecuteTime": {
     "end_time": "2023-11-23T14:06:47.843356600Z",
     "start_time": "2023-11-23T14:06:47.816390100Z"
    }
   },
   "id": "a39db5c4fdef2bf8"
  },
  {
   "cell_type": "markdown",
   "source": [
    "## 5.tensor的其他操作\n",
    "+ tensor和tensor相加\n",
    "    add和直接相加一样效果，不会有影响"
   ],
   "metadata": {
    "collapsed": false
   },
   "id": "3d670f5f1badc831"
  },
  {
   "cell_type": "code",
   "execution_count": 4,
   "outputs": [
    {
     "data": {
      "text/plain": "tensor([[1., 1., 1.],\n        [1., 1., 1.],\n        [1., 1., 1.],\n        [1., 1., 1.],\n        [1., 1., 1.]])"
     },
     "execution_count": 4,
     "metadata": {},
     "output_type": "execute_result"
    }
   ],
   "source": [
    "import torch\n",
    "x =torch.ones([5,3],dtype=torch.float)\n",
    "x"
   ],
   "metadata": {
    "collapsed": false,
    "ExecuteTime": {
     "end_time": "2023-11-24T12:25:08.461197Z",
     "start_time": "2023-11-24T12:25:08.454988900Z"
    }
   },
   "id": "89d6d1da7ddae6a2"
  },
  {
   "cell_type": "code",
   "execution_count": 6,
   "outputs": [
    {
     "data": {
      "text/plain": "tensor([[0.6348, 0.1243, 0.2417],\n        [0.8091, 0.2588, 0.8975],\n        [0.4358, 0.0061, 0.1221],\n        [0.8434, 0.6096, 0.7707],\n        [0.3223, 0.4922, 0.7856]])"
     },
     "execution_count": 6,
     "metadata": {},
     "output_type": "execute_result"
    }
   ],
   "source": [
    "y = torch.rand(5,3)\n",
    "y"
   ],
   "metadata": {
    "collapsed": false,
    "ExecuteTime": {
     "end_time": "2023-11-24T12:25:08.470779400Z",
     "start_time": "2023-11-24T12:25:08.464002700Z"
    }
   },
   "id": "45ec2d85114c33f2"
  },
  {
   "cell_type": "code",
   "execution_count": 8,
   "outputs": [
    {
     "data": {
      "text/plain": "tensor([[1.6348, 1.1243, 1.2417],\n        [1.8091, 1.2588, 1.8975],\n        [1.4358, 1.0061, 1.1221],\n        [1.8434, 1.6096, 1.7707],\n        [1.3223, 1.4922, 1.7856]])"
     },
     "execution_count": 8,
     "metadata": {},
     "output_type": "execute_result"
    }
   ],
   "source": [
    "x+y"
   ],
   "metadata": {
    "collapsed": false,
    "ExecuteTime": {
     "end_time": "2023-11-24T12:25:18.090777100Z",
     "start_time": "2023-11-24T12:25:18.046830700Z"
    }
   },
   "id": "ca0a3ab0a1c47100"
  },
  {
   "cell_type": "code",
   "execution_count": 13,
   "outputs": [
    {
     "data": {
      "text/plain": "tensor([[2.9045, 1.3728, 1.7250],\n        [3.4273, 1.7765, 3.6924],\n        [2.3073, 1.0182, 1.3663],\n        [3.5303, 2.8287, 3.3122],\n        [1.9670, 2.4765, 3.3569]])"
     },
     "execution_count": 13,
     "metadata": {},
     "output_type": "execute_result"
    }
   ],
   "source": [
    "torch.add(x,y)"
   ],
   "metadata": {
    "collapsed": false,
    "ExecuteTime": {
     "end_time": "2023-11-24T12:26:23.333156900Z",
     "start_time": "2023-11-24T12:26:23.328141100Z"
    }
   },
   "id": "d05a7786fc4b3e99"
  },
  {
   "cell_type": "markdown",
   "source": [
    "add_方法：会把x的值改变"
   ],
   "metadata": {
    "collapsed": false
   },
   "id": "cc34bf327e10c06f"
  },
  {
   "cell_type": "code",
   "execution_count": 14,
   "outputs": [
    {
     "data": {
      "text/plain": "tensor([[2.9045, 1.3728, 1.7250],\n        [3.4273, 1.7765, 3.6924],\n        [2.3073, 1.0182, 1.3663],\n        [3.5303, 2.8287, 3.3122],\n        [1.9670, 2.4765, 3.3569]])"
     },
     "execution_count": 14,
     "metadata": {},
     "output_type": "execute_result"
    }
   ],
   "source": [
    "x.add_(y)\n",
    "x "
   ],
   "metadata": {
    "collapsed": false,
    "ExecuteTime": {
     "end_time": "2023-11-24T12:30:55.981741900Z",
     "start_time": "2023-11-24T12:30:55.953155Z"
    }
   },
   "id": "ed961fde8d8e96dc"
  },
  {
   "cell_type": "markdown",
   "source": [
    "tensor和数字运算"
   ],
   "metadata": {
    "collapsed": false
   },
   "id": "67970b7cf65cc12a"
  },
  {
   "cell_type": "code",
   "execution_count": 18,
   "outputs": [
    {
     "data": {
      "text/plain": "tensor([[1, 1, 1, 1],\n        [1, 1, 1, 1],\n        [1, 1, 1, 1],\n        [1, 1, 1, 1],\n        [1, 1, 1, 1]], dtype=torch.int32)"
     },
     "execution_count": 18,
     "metadata": {},
     "output_type": "execute_result"
    }
   ],
   "source": [
    "x=torch.ones([5,4],dtype=torch.int)\n",
    "x"
   ],
   "metadata": {
    "collapsed": false,
    "ExecuteTime": {
     "end_time": "2023-11-24T12:32:46.593833Z",
     "start_time": "2023-11-24T12:32:46.546328200Z"
    }
   },
   "id": "7c286a6c37c0fed7"
  },
  {
   "cell_type": "code",
   "execution_count": 22,
   "outputs": [
    {
     "data": {
      "text/plain": "tensor([[11, 11, 11, 11],\n        [11, 11, 11, 11],\n        [11, 11, 11, 11],\n        [11, 11, 11, 11],\n        [11, 11, 11, 11]], dtype=torch.int32)"
     },
     "execution_count": 22,
     "metadata": {},
     "output_type": "execute_result"
    }
   ],
   "source": [
    "x+10"
   ],
   "metadata": {
    "collapsed": false,
    "ExecuteTime": {
     "end_time": "2023-11-24T12:33:02.222878900Z",
     "start_time": "2023-11-24T12:33:02.193831600Z"
    }
   },
   "id": "e714d34934c43158"
  },
  {
   "cell_type": "markdown",
   "source": [
    "CUDA的tensor\n",
    "在GPU上进行训练，需要把代码操作和转换，把代码提供进行转换"
   ],
   "metadata": {
    "collapsed": false
   },
   "id": "c4783aa7b5a4be8d"
  },
  {
   "cell_type": "code",
   "execution_count": 24,
   "outputs": [
    {
     "data": {
      "text/plain": "True"
     },
     "execution_count": 24,
     "metadata": {},
     "output_type": "execute_result"
    }
   ],
   "source": [
    "#判断我们电脑是否可以支持gpu执行代码不\n",
    "torch.cuda.is_available()"
   ],
   "metadata": {
    "collapsed": false,
    "ExecuteTime": {
     "end_time": "2023-11-24T12:43:29.576786800Z",
     "start_time": "2023-11-24T12:43:29.549579300Z"
    }
   },
   "id": "f41d7022abbd8b2"
  },
  {
   "cell_type": "code",
   "execution_count": 30,
   "outputs": [
    {
     "name": "stdout",
     "output_type": "stream",
     "text": [
      "tensor([[2, 2, 2, 2],\n",
      "        [2, 2, 2, 2],\n",
      "        [2, 2, 2, 2],\n",
      "        [2, 2, 2, 2],\n",
      "        [2, 2, 2, 2]], device='cuda:0', dtype=torch.int32)\n",
      "tensor([[2., 2., 2., 2.],\n",
      "        [2., 2., 2., 2.],\n",
      "        [2., 2., 2., 2.],\n",
      "        [2., 2., 2., 2.],\n",
      "        [2., 2., 2., 2.]], dtype=torch.float64)\n"
     ]
    }
   ],
   "source": [
    "if torch.cuda.is_available():\n",
    "    #device：表示在cuda执行代码，输入cpu则使用cpu,也可以输入cuda:0代表使用不同gpu\n",
    "    device = torch.device(\"cuda\")\n",
    "    y = torch.ones_like(x,device=device)\n",
    "    x = x.to(device)\n",
    "    z = x + y\n",
    "    print(z)\n",
    "    #to方法是转到cpu上了\n",
    "    print(z.to(\"cpu\",torch.double))"
   ],
   "metadata": {
    "collapsed": false,
    "ExecuteTime": {
     "end_time": "2023-11-24T12:48:06.816664300Z",
     "start_time": "2023-11-24T12:48:06.811232600Z"
    }
   },
   "id": "4afdaeadb3bfa9d9"
  }
 ],
 "metadata": {
  "kernelspec": {
   "display_name": "Python 3",
   "language": "python",
   "name": "python3"
  },
  "language_info": {
   "codemirror_mode": {
    "name": "ipython",
    "version": 2
   },
   "file_extension": ".py",
   "mimetype": "text/x-python",
   "name": "python",
   "nbconvert_exporter": "python",
   "pygments_lexer": "ipython2",
   "version": "2.7.6"
  }
 },
 "nbformat": 4,
 "nbformat_minor": 5
}
