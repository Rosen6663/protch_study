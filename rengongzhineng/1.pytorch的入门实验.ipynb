{
 "cells": [
  {
   "cell_type": "markdown",
   "source": [
    "# 张量Tensor\n",
    "张量是一个统称\n",
    "1. 0阶张量：标量：常数：scaler:0-D Tensor \n",
    "2. 1阶张量：向量：vector:1-D Tensor\n",
    "3. 2阶张量：矩阵:matrix:2-D Tensor\n",
    "...\n",
    "# Pytorch创建张量"
   ],
   "metadata": {
    "collapsed": false
   },
   "id": "ae92b4a6a0b1e34a"
  },
  {
   "cell_type": "code",
   "execution_count": 11,
   "id": "initial_id",
   "metadata": {
    "collapsed": true,
    "ExecuteTime": {
     "end_time": "2023-11-23T12:46:27.186896600Z",
     "start_time": "2023-11-23T12:46:27.184892200Z"
    }
   },
   "outputs": [],
   "source": [
    "import numpy as np\n",
    "import torch"
   ]
  },
  {
   "cell_type": "markdown",
   "source": [
    "大写Tensor为小数，小写为整数"
   ],
   "metadata": {
    "collapsed": false
   },
   "id": "e99800c0b1258d88"
  },
  {
   "cell_type": "code",
   "execution_count": 21,
   "outputs": [
    {
     "data": {
      "text/plain": "tensor([1., 2., 3.])"
     },
     "execution_count": 21,
     "metadata": {},
     "output_type": "execute_result"
    }
   ],
   "source": [
    "t1=torch.Tensor([1,2,3])\n",
    "t1"
   ],
   "metadata": {
    "collapsed": false,
    "ExecuteTime": {
     "end_time": "2023-11-23T12:47:31.288851700Z",
     "start_time": "2023-11-23T12:47:31.283426900Z"
    }
   },
   "id": "909b3505b181fbb7"
  },
  {
   "cell_type": "markdown",
   "source": [
    "np.arange([start, ]stop, [step, ]dtype=None)\n",
    "从哪个数开始，到那个数结束，步长是多长"
   ],
   "metadata": {
    "collapsed": false
   },
   "id": "2fb93aa3b2e472f"
  },
  {
   "cell_type": "code",
   "execution_count": 23,
   "outputs": [
    {
     "data": {
      "text/plain": "array([[ 0,  1,  2,  3],\n       [ 4,  5,  6,  7],\n       [ 8,  9, 10, 11]])"
     },
     "execution_count": 23,
     "metadata": {},
     "output_type": "execute_result"
    }
   ],
   "source": [
    "array1 = np.arange(12).reshape(3,4)\n",
    "array1"
   ],
   "metadata": {
    "collapsed": false,
    "ExecuteTime": {
     "end_time": "2023-11-23T12:50:45.643645200Z",
     "start_time": "2023-11-23T12:50:45.636684300Z"
    }
   },
   "id": "19568d767cd45e32"
  },
  {
   "cell_type": "markdown",
   "source": [
    "torch和num转换"
   ],
   "metadata": {
    "collapsed": false
   },
   "id": "eb966b801ad49195"
  },
  {
   "cell_type": "code",
   "execution_count": 24,
   "outputs": [
    {
     "data": {
      "text/plain": "tensor([[ 0.,  1.,  2.,  3.],\n        [ 4.,  5.,  6.,  7.],\n        [ 8.,  9., 10., 11.]])"
     },
     "execution_count": 24,
     "metadata": {},
     "output_type": "execute_result"
    }
   ],
   "source": [
    "torch.Tensor(array1)"
   ],
   "metadata": {
    "collapsed": false,
    "ExecuteTime": {
     "end_time": "2023-11-23T12:51:06.428990300Z",
     "start_time": "2023-11-23T12:51:06.420421400Z"
    }
   },
   "id": "f635cedba8555cc1"
  },
  {
   "cell_type": "markdown",
   "source": [
    "## torch的api创建tensor\n",
    "+ torch.empty(3,4):3行4列的空tensor\n",
    "+ torch.ones([3,4]):3行4列的全为1tensor\n",
    "+ torch.zeros([3,4]):3行4列的全为0tensor\n",
    "+ torch.rand([3,4]):3行4列的随机数tensor"
   ],
   "metadata": {
    "collapsed": false
   },
   "id": "68d46b2066e85964"
  },
  {
   "cell_type": "code",
   "execution_count": 26,
   "outputs": [
    {
     "data": {
      "text/plain": "tensor([[0., 0., 0., 0.],\n        [0., 0., 0., 0.],\n        [0., 0., 0., 0.]])"
     },
     "execution_count": 26,
     "metadata": {},
     "output_type": "execute_result"
    }
   ],
   "source": [
    "torch.empty(3,4)"
   ],
   "metadata": {
    "collapsed": false,
    "ExecuteTime": {
     "end_time": "2023-11-23T12:54:53.801524900Z",
     "start_time": "2023-11-23T12:54:53.791492700Z"
    }
   },
   "id": "db7a560a21b5948c"
  },
  {
   "cell_type": "markdown",
   "source": [
    "### rand部分"
   ],
   "metadata": {
    "collapsed": false
   },
   "id": "a820415763ed1aa4"
  },
  {
   "cell_type": "code",
   "execution_count": 29,
   "outputs": [
    {
     "data": {
      "text/plain": "tensor([[0.4712, 0.4505, 0.1136, 0.9068],\n        [0.2866, 0.3578, 0.6065, 0.9174],\n        [0.5756, 0.4597, 0.7982, 0.0219]])"
     },
     "execution_count": 29,
     "metadata": {},
     "output_type": "execute_result"
    }
   ],
   "source": [
    "torch.rand(3,4)"
   ],
   "metadata": {
    "collapsed": false,
    "ExecuteTime": {
     "end_time": "2023-11-23T12:55:39.145685Z",
     "start_time": "2023-11-23T12:55:39.137413900Z"
    }
   },
   "id": "dedd8ce8c46f352c"
  },
  {
   "cell_type": "markdown",
   "source": [
    "区间：[low,high)"
   ],
   "metadata": {
    "collapsed": false
   },
   "id": "71940903aa7504e1"
  },
  {
   "cell_type": "code",
   "execution_count": 30,
   "outputs": [
    {
     "data": {
      "text/plain": "tensor([[9, 6, 6, 5],\n        [7, 5, 1, 9],\n        [5, 0, 7, 3]])"
     },
     "execution_count": 30,
     "metadata": {},
     "output_type": "execute_result"
    }
   ],
   "source": [
    "torch.randint(low=0,high=10,size=[3,4])"
   ],
   "metadata": {
    "collapsed": false,
    "ExecuteTime": {
     "end_time": "2023-11-23T12:56:16.537548600Z",
     "start_time": "2023-11-23T12:56:16.531382300Z"
    }
   },
   "id": "a67518cee48f2c9e"
  }
 ],
 "metadata": {
  "kernelspec": {
   "display_name": "Python 3",
   "language": "python",
   "name": "python3"
  },
  "language_info": {
   "codemirror_mode": {
    "name": "ipython",
    "version": 2
   },
   "file_extension": ".py",
   "mimetype": "text/x-python",
   "name": "python",
   "nbconvert_exporter": "python",
   "pygments_lexer": "ipython2",
   "version": "2.7.6"
  }
 },
 "nbformat": 4,
 "nbformat_minor": 5
}
