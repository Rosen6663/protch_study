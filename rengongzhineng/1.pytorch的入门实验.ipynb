{
 "cells": [
  {
   "cell_type": "markdown",
   "source": [
    "# 一.张量Tensor\n",
    "张量是一个统称\n",
    "1. 0阶张量：标量：常数：scaler:0-D Tensor \n",
    "2. 1阶张量：向量：vector:1-D Tensor\n",
    "3. 2阶张量：矩阵:matrix:2-D Tensor\n",
    "...\n",
    "# 二.Pytorch创建张量"
   ],
   "metadata": {
    "collapsed": false
   },
   "id": "ae92b4a6a0b1e34a"
  },
  {
   "cell_type": "code",
   "execution_count": 11,
   "id": "initial_id",
   "metadata": {
    "collapsed": true,
    "ExecuteTime": {
     "end_time": "2023-11-23T12:46:27.186896600Z",
     "start_time": "2023-11-23T12:46:27.184892200Z"
    }
   },
   "outputs": [],
   "source": [
    "import numpy as np\n",
    "import torch"
   ]
  },
  {
   "cell_type": "markdown",
   "source": [
    "大写Tensor为小数，小写为整数"
   ],
   "metadata": {
    "collapsed": false
   },
   "id": "e99800c0b1258d88"
  },
  {
   "cell_type": "code",
   "execution_count": 21,
   "outputs": [
    {
     "data": {
      "text/plain": "tensor([1., 2., 3.])"
     },
     "execution_count": 21,
     "metadata": {},
     "output_type": "execute_result"
    }
   ],
   "source": [
    "t1=torch.Tensor([1,2,3])\n",
    "t1"
   ],
   "metadata": {
    "collapsed": false,
    "ExecuteTime": {
     "end_time": "2023-11-23T12:47:31.288851700Z",
     "start_time": "2023-11-23T12:47:31.283426900Z"
    }
   },
   "id": "909b3505b181fbb7"
  },
  {
   "cell_type": "markdown",
   "source": [
    "np.arange([start, ]stop, [step, ]dtype=None)\n",
    "从哪个数开始，到那个数结束，步长是多长"
   ],
   "metadata": {
    "collapsed": false
   },
   "id": "2fb93aa3b2e472f"
  },
  {
   "cell_type": "code",
   "execution_count": 23,
   "outputs": [
    {
     "data": {
      "text/plain": "array([[ 0,  1,  2,  3],\n       [ 4,  5,  6,  7],\n       [ 8,  9, 10, 11]])"
     },
     "execution_count": 23,
     "metadata": {},
     "output_type": "execute_result"
    }
   ],
   "source": [
    "array1 = np.arange(12).reshape(3,4)\n",
    "array1"
   ],
   "metadata": {
    "collapsed": false,
    "ExecuteTime": {
     "end_time": "2023-11-23T12:50:45.643645200Z",
     "start_time": "2023-11-23T12:50:45.636684300Z"
    }
   },
   "id": "19568d767cd45e32"
  },
  {
   "cell_type": "markdown",
   "source": [
    "torch和num转换"
   ],
   "metadata": {
    "collapsed": false
   },
   "id": "eb966b801ad49195"
  },
  {
   "cell_type": "code",
   "execution_count": 24,
   "outputs": [
    {
     "data": {
      "text/plain": "tensor([[ 0.,  1.,  2.,  3.],\n        [ 4.,  5.,  6.,  7.],\n        [ 8.,  9., 10., 11.]])"
     },
     "execution_count": 24,
     "metadata": {},
     "output_type": "execute_result"
    }
   ],
   "source": [
    "torch.Tensor(array1)"
   ],
   "metadata": {
    "collapsed": false,
    "ExecuteTime": {
     "end_time": "2023-11-23T12:51:06.428990300Z",
     "start_time": "2023-11-23T12:51:06.420421400Z"
    }
   },
   "id": "f635cedba8555cc1"
  },
  {
   "cell_type": "markdown",
   "source": [
    "## 1.torch的api创建tensor\n",
    "+ torch.empty(3,4):3行4列的空tensor\n",
    "+ torch.ones([3,4]):3行4列的全为1tensor\n",
    "+ torch.zeros([3,4]):3行4列的全为0tensor\n",
    "+ torch.rand([3,4]):3行4列的随机数tensor"
   ],
   "metadata": {
    "collapsed": false
   },
   "id": "68d46b2066e85964"
  },
  {
   "cell_type": "code",
   "execution_count": 26,
   "outputs": [
    {
     "data": {
      "text/plain": "tensor([[0., 0., 0., 0.],\n        [0., 0., 0., 0.],\n        [0., 0., 0., 0.]])"
     },
     "execution_count": 26,
     "metadata": {},
     "output_type": "execute_result"
    }
   ],
   "source": [
    "torch.empty(3,4)"
   ],
   "metadata": {
    "collapsed": false,
    "ExecuteTime": {
     "end_time": "2023-11-23T12:54:53.801524900Z",
     "start_time": "2023-11-23T12:54:53.791492700Z"
    }
   },
   "id": "db7a560a21b5948c"
  },
  {
   "cell_type": "markdown",
   "source": [
    "### 2.rand部分"
   ],
   "metadata": {
    "collapsed": false
   },
   "id": "a820415763ed1aa4"
  },
  {
   "cell_type": "code",
   "execution_count": 29,
   "outputs": [
    {
     "data": {
      "text/plain": "tensor([[0.4712, 0.4505, 0.1136, 0.9068],\n        [0.2866, 0.3578, 0.6065, 0.9174],\n        [0.5756, 0.4597, 0.7982, 0.0219]])"
     },
     "execution_count": 29,
     "metadata": {},
     "output_type": "execute_result"
    }
   ],
   "source": [
    "torch.rand(3,4)"
   ],
   "metadata": {
    "collapsed": false,
    "ExecuteTime": {
     "end_time": "2023-11-23T12:55:39.145685Z",
     "start_time": "2023-11-23T12:55:39.137413900Z"
    }
   },
   "id": "dedd8ce8c46f352c"
  },
  {
   "cell_type": "markdown",
   "source": [
    "区间：[low,high)"
   ],
   "metadata": {
    "collapsed": false
   },
   "id": "71940903aa7504e1"
  },
  {
   "cell_type": "code",
   "execution_count": 31,
   "outputs": [
    {
     "data": {
      "text/plain": "tensor([[5, 8, 7, 0],\n        [8, 6, 5, 2],\n        [6, 3, 2, 1]])"
     },
     "execution_count": 31,
     "metadata": {},
     "output_type": "execute_result"
    }
   ],
   "source": [
    "torch.randint(low=0,high=10,size=[3,4])"
   ],
   "metadata": {
    "collapsed": false,
    "ExecuteTime": {
     "end_time": "2023-11-23T13:01:30.433081100Z",
     "start_time": "2023-11-23T13:01:30.423051500Z"
    }
   },
   "id": "a67518cee48f2c9e"
  },
  {
   "cell_type": "markdown",
   "source": [
    "满足正态分布的随机数"
   ],
   "metadata": {
    "collapsed": false
   },
   "id": "653040e1b98c0ecc"
  },
  {
   "cell_type": "code",
   "execution_count": 33,
   "outputs": [
    {
     "data": {
      "text/plain": "tensor([[-0.1704, -0.1806,  0.1441, -0.1719],\n        [-1.3407,  1.0998, -0.2443, -0.5404],\n        [ 0.2771,  1.1747, -0.0433, -0.9056]])"
     },
     "execution_count": 33,
     "metadata": {},
     "output_type": "execute_result"
    }
   ],
   "source": [
    "torch.randn([3,4])"
   ],
   "metadata": {
    "collapsed": false,
    "ExecuteTime": {
     "end_time": "2023-11-23T13:01:55.645692600Z",
     "start_time": "2023-11-23T13:01:55.638071900Z"
    }
   },
   "id": "be88eca8a16ac3e6"
  },
  {
   "cell_type": "markdown",
   "source": [
    "# 三. Pytorch的tensor的常用方法"
   ],
   "metadata": {
    "collapsed": false
   },
   "id": "39f835f75f827993"
  },
  {
   "cell_type": "code",
   "execution_count": 36,
   "outputs": [
    {
     "data": {
      "text/plain": "tensor([[[1.]]])"
     },
     "execution_count": 36,
     "metadata": {},
     "output_type": "execute_result"
    }
   ],
   "source": [
    "t1 =torch.Tensor([[[1]]])\n",
    "t1"
   ],
   "metadata": {
    "collapsed": false,
    "ExecuteTime": {
     "end_time": "2023-11-23T13:09:04.808464600Z",
     "start_time": "2023-11-23T13:09:04.799452100Z"
    }
   },
   "id": "695471b9ff400741"
  },
  {
   "cell_type": "markdown",
   "source": [
    "## 1.获取tensor数据，只有中间的值的时候"
   ],
   "metadata": {
    "collapsed": false
   },
   "id": "5a85e131955cb0f5"
  },
  {
   "cell_type": "code",
   "execution_count": 39,
   "outputs": [
    {
     "data": {
      "text/plain": "1.0"
     },
     "execution_count": 39,
     "metadata": {},
     "output_type": "execute_result"
    }
   ],
   "source": [
    "t1.item()"
   ],
   "metadata": {
    "collapsed": false,
    "ExecuteTime": {
     "end_time": "2023-11-23T13:10:05.018572200Z",
     "start_time": "2023-11-23T13:10:05.009251100Z"
    }
   },
   "id": "d975ccbdef7ab62e"
  },
  {
   "cell_type": "markdown",
   "source": [
    "如果里面有两个数呢:将会报错，只有标量才能获得"
   ],
   "metadata": {
    "collapsed": false
   },
   "id": "9ce3662262c4bc9a"
  },
  {
   "cell_type": "code",
   "execution_count": 41,
   "outputs": [
    {
     "ename": "RuntimeError",
     "evalue": "a Tensor with 2 elements cannot be converted to Scalar",
     "output_type": "error",
     "traceback": [
      "\u001B[1;31m---------------------------------------------------------------------------\u001B[0m",
      "\u001B[1;31mRuntimeError\u001B[0m                              Traceback (most recent call last)",
      "Cell \u001B[1;32mIn[41], line 2\u001B[0m\n\u001B[0;32m      1\u001B[0m t2 \u001B[38;5;241m=\u001B[39m torch\u001B[38;5;241m.\u001B[39mTensor([[[\u001B[38;5;241m1\u001B[39m,\u001B[38;5;241m2\u001B[39m]]])\n\u001B[1;32m----> 2\u001B[0m \u001B[43mt2\u001B[49m\u001B[38;5;241;43m.\u001B[39;49m\u001B[43mitem\u001B[49m\u001B[43m(\u001B[49m\u001B[43m)\u001B[49m\n",
      "\u001B[1;31mRuntimeError\u001B[0m: a Tensor with 2 elements cannot be converted to Scalar"
     ]
    }
   ],
   "source": [
    "t2 = torch.Tensor([[[1,2]]])\n",
    "t2.item()"
   ],
   "metadata": {
    "collapsed": false,
    "ExecuteTime": {
     "end_time": "2023-11-23T13:12:43.603457600Z",
     "start_time": "2023-11-23T13:12:43.537949700Z"
    }
   },
   "id": "cfda80611a62a8d"
  },
  {
   "cell_type": "markdown",
   "source": [
    "## 2.转为numpy类型"
   ],
   "metadata": {
    "collapsed": false
   },
   "id": "da384db5d88a32a6"
  },
  {
   "cell_type": "code",
   "execution_count": 45,
   "outputs": [
    {
     "data": {
      "text/plain": "array([[[1., 2.]]], dtype=float32)"
     },
     "execution_count": 45,
     "metadata": {},
     "output_type": "execute_result"
    }
   ],
   "source": [
    "t2.numpy()"
   ],
   "metadata": {
    "collapsed": false,
    "ExecuteTime": {
     "end_time": "2023-11-23T13:15:28.624005900Z",
     "start_time": "2023-11-23T13:15:28.611488700Z"
    }
   },
   "id": "9979dc0585ef126d"
  },
  {
   "cell_type": "markdown",
   "source": [
    "## 3.获取形状\n",
    "size可以查看具体的维度"
   ],
   "metadata": {
    "collapsed": false
   },
   "id": "d9ef3a03d6a0629"
  },
  {
   "cell_type": "code",
   "execution_count": 53,
   "outputs": [
    {
     "data": {
      "text/plain": "2"
     },
     "execution_count": 53,
     "metadata": {},
     "output_type": "execute_result"
    }
   ],
   "source": [
    "t2.size(2)\n",
    "t2.size(-1)"
   ],
   "metadata": {
    "collapsed": false,
    "ExecuteTime": {
     "end_time": "2023-11-23T13:17:25.102869Z",
     "start_time": "2023-11-23T13:17:25.090790800Z"
    }
   },
   "id": "7bcce1c64f6af77d"
  },
  {
   "cell_type": "code",
   "execution_count": 58,
   "outputs": [
    {
     "data": {
      "text/plain": "torch.Size([1, 1, 2])"
     },
     "execution_count": 58,
     "metadata": {},
     "output_type": "execute_result"
    }
   ],
   "source": [
    "t2.size()"
   ],
   "metadata": {
    "collapsed": false,
    "ExecuteTime": {
     "end_time": "2023-11-23T13:20:30.877730100Z",
     "start_time": "2023-11-23T13:20:30.855994400Z"
    }
   },
   "id": "ae8d6a45a7b27a83"
  },
  {
   "cell_type": "markdown",
   "source": [
    "## 4.形状改变\n",
    "浅拷贝，仅仅改变形状"
   ],
   "metadata": {
    "collapsed": false
   },
   "id": "40e0a85bfb059ba8"
  },
  {
   "cell_type": "code",
   "execution_count": 59,
   "outputs": [
    {
     "data": {
      "text/plain": "tensor([[1., 2.]])"
     },
     "execution_count": 59,
     "metadata": {},
     "output_type": "execute_result"
    }
   ],
   "source": [
    "t2.view([1,2])"
   ],
   "metadata": {
    "collapsed": false,
    "ExecuteTime": {
     "end_time": "2023-11-23T13:20:35.654672800Z",
     "start_time": "2023-11-23T13:20:35.642740200Z"
    }
   },
   "id": "6af27495af9f5275"
  },
  {
   "cell_type": "code",
   "execution_count": 65,
   "outputs": [
    {
     "data": {
      "text/plain": "tensor([1., 2.])"
     },
     "execution_count": 65,
     "metadata": {},
     "output_type": "execute_result"
    }
   ],
   "source": [
    "t2.view(-1)"
   ],
   "metadata": {
    "collapsed": false,
    "ExecuteTime": {
     "end_time": "2023-11-23T13:21:11.409973600Z",
     "start_time": "2023-11-23T13:21:11.398951700Z"
    }
   },
   "id": "506cd0a0e4baf425"
  },
  {
   "cell_type": "code",
   "execution_count": 66,
   "outputs": [
    {
     "data": {
      "text/plain": "tensor([[1.],\n        [2.]])"
     },
     "execution_count": 66,
     "metadata": {},
     "output_type": "execute_result"
    }
   ],
   "source": [
    "t2.view(2,-1)"
   ],
   "metadata": {
    "collapsed": false,
    "ExecuteTime": {
     "end_time": "2023-11-23T13:21:20.778321500Z",
     "start_time": "2023-11-23T13:21:20.768721900Z"
    }
   },
   "id": "bb6892912ff48df9"
  },
  {
   "cell_type": "markdown",
   "source": [
    "## 5.获取维数"
   ],
   "metadata": {
    "collapsed": false
   },
   "id": "c33a93e745afb7f0"
  },
  {
   "cell_type": "code",
   "execution_count": 68,
   "outputs": [
    {
     "data": {
      "text/plain": "3"
     },
     "execution_count": 68,
     "metadata": {},
     "output_type": "execute_result"
    }
   ],
   "source": [
    "t2.dim()"
   ],
   "metadata": {
    "collapsed": false,
    "ExecuteTime": {
     "end_time": "2023-11-23T13:23:15.713974200Z",
     "start_time": "2023-11-23T13:23:15.702783Z"
    }
   },
   "id": "f14b56e06d7eee2a"
  },
  {
   "cell_type": "markdown",
   "source": [
    "## 6.获取最大值最小值"
   ],
   "metadata": {
    "collapsed": false
   },
   "id": "8ec65c05dee3996"
  },
  {
   "cell_type": "code",
   "execution_count": 73,
   "outputs": [
    {
     "data": {
      "text/plain": "tensor(2.)"
     },
     "execution_count": 73,
     "metadata": {},
     "output_type": "execute_result"
    }
   ],
   "source": [
    "t2.max()"
   ],
   "metadata": {
    "collapsed": false,
    "ExecuteTime": {
     "end_time": "2023-11-23T13:24:00.824729100Z",
     "start_time": "2023-11-23T13:24:00.797907900Z"
    }
   },
   "id": "31f64210173cb144"
  },
  {
   "cell_type": "code",
   "execution_count": 75,
   "outputs": [
    {
     "data": {
      "text/plain": "tensor(1.)"
     },
     "execution_count": 75,
     "metadata": {},
     "output_type": "execute_result"
    }
   ],
   "source": [
    "t2.min()\n",
    "t2.std()"
   ],
   "metadata": {
    "collapsed": false,
    "ExecuteTime": {
     "end_time": "2023-11-23T13:24:06.017955900Z",
     "start_time": "2023-11-23T13:24:06.005596Z"
    }
   },
   "id": "7a19c216ecddd96c"
  },
  {
   "cell_type": "markdown",
   "source": [
    "## 7.转置"
   ],
   "metadata": {
    "collapsed": false
   },
   "id": "12226e8a044e4dcf"
  },
  {
   "cell_type": "code",
   "execution_count": 82,
   "outputs": [
    {
     "data": {
      "text/plain": "tensor([[[ 0.,  1.,  2.,  3.],\n         [ 4.,  5.,  6.,  7.],\n         [ 8.,  9., 10., 11.]],\n\n        [[12., 13., 14., 15.],\n         [16., 17., 18., 19.],\n         [20., 21., 22., 23.]]])"
     },
     "execution_count": 82,
     "metadata": {},
     "output_type": "execute_result"
    }
   ],
   "source": [
    "t3 =torch.Tensor(np.arange(24).reshape(2,3,4))"
   ],
   "metadata": {
    "collapsed": false,
    "ExecuteTime": {
     "end_time": "2023-11-23T13:45:45.220980600Z",
     "start_time": "2023-11-23T13:45:45.211934300Z"
    }
   },
   "id": "d06fbad72e565df1"
  },
  {
   "cell_type": "code",
   "execution_count": 84,
   "outputs": [
    {
     "data": {
      "text/plain": "torch.Size([2, 3, 4])"
     },
     "execution_count": 84,
     "metadata": {},
     "output_type": "execute_result"
    }
   ],
   "source": [
    "t3.size()"
   ],
   "metadata": {
    "collapsed": false,
    "ExecuteTime": {
     "end_time": "2023-11-23T13:46:19.407414500Z",
     "start_time": "2023-11-23T13:46:19.393226Z"
    }
   },
   "id": "9ce8c3654a68b750"
  },
  {
   "cell_type": "markdown",
   "source": [
    "将0，1维度交换"
   ],
   "metadata": {
    "collapsed": false
   },
   "id": "f3765ca2c301397b"
  },
  {
   "cell_type": "code",
   "execution_count": 86,
   "outputs": [
    {
     "data": {
      "text/plain": "tensor([[[ 0.,  1.,  2.,  3.],\n         [12., 13., 14., 15.]],\n\n        [[ 4.,  5.,  6.,  7.],\n         [16., 17., 18., 19.]],\n\n        [[ 8.,  9., 10., 11.],\n         [20., 21., 22., 23.]]])"
     },
     "execution_count": 86,
     "metadata": {},
     "output_type": "execute_result"
    }
   ],
   "source": [
    "t3.transpose(0,1)"
   ],
   "metadata": {
    "collapsed": false,
    "ExecuteTime": {
     "end_time": "2023-11-23T13:47:00.199366500Z",
     "start_time": "2023-11-23T13:47:00.185706Z"
    }
   },
   "id": "ec6e5cf7611ddbd8"
  },
  {
   "cell_type": "markdown",
   "source": [
    "轴交换"
   ],
   "metadata": {
    "collapsed": false
   },
   "id": "4cbfa35c37161dc9"
  },
  {
   "cell_type": "code",
   "execution_count": 88,
   "outputs": [
    {
     "data": {
      "text/plain": "tensor([[[ 0., 12.],\n         [ 1., 13.],\n         [ 2., 14.],\n         [ 3., 15.]],\n\n        [[ 4., 16.],\n         [ 5., 17.],\n         [ 6., 18.],\n         [ 7., 19.]],\n\n        [[ 8., 20.],\n         [ 9., 21.],\n         [10., 22.],\n         [11., 23.]]])"
     },
     "execution_count": 88,
     "metadata": {},
     "output_type": "execute_result"
    }
   ],
   "source": [
    "t3.permute(1,2,0)"
   ],
   "metadata": {
    "collapsed": false,
    "ExecuteTime": {
     "end_time": "2023-11-23T13:47:51.539259100Z",
     "start_time": "2023-11-23T13:47:51.517795900Z"
    }
   },
   "id": "6a2fcad4cadcadeb"
  },
  {
   "cell_type": "markdown",
   "source": [
    "## 8.取值"
   ],
   "metadata": {
    "collapsed": false
   },
   "id": "433643ab754e6d3d"
  },
  {
   "cell_type": "code",
   "execution_count": 90,
   "outputs": [
    {
     "data": {
      "text/plain": "tensor([[[ 0., 12.],\n         [ 1., 13.],\n         [ 2., 14.],\n         [ 3., 15.]],\n\n        [[ 4., 16.],\n         [ 5., 17.],\n         [ 6., 18.],\n         [ 7., 19.]],\n\n        [[ 8., 20.],\n         [ 9., 21.],\n         [10., 22.],\n         [11., 23.]]])"
     },
     "execution_count": 90,
     "metadata": {},
     "output_type": "execute_result"
    }
   ],
   "source": [
    "t4=t3.permute(1,2,0)\n",
    "t4"
   ],
   "metadata": {
    "collapsed": false,
    "ExecuteTime": {
     "end_time": "2023-11-23T13:53:50.516973600Z",
     "start_time": "2023-11-23T13:53:50.502530600Z"
    }
   },
   "id": "e017eb9ddab56860"
  },
  {
   "cell_type": "code",
   "execution_count": 92,
   "outputs": [
    {
     "data": {
      "text/plain": "tensor(0.)"
     },
     "execution_count": 92,
     "metadata": {},
     "output_type": "execute_result"
    }
   ],
   "source": [
    "t4[0,0,0]"
   ],
   "metadata": {
    "collapsed": false,
    "ExecuteTime": {
     "end_time": "2023-11-23T13:54:09.573161300Z",
     "start_time": "2023-11-23T13:54:09.522171900Z"
    }
   },
   "id": "199cc2b145e3c5e9"
  },
  {
   "cell_type": "code",
   "execution_count": 100,
   "outputs": [
    {
     "data": {
      "text/plain": "tensor([[10., 12.],\n        [ 1., 13.],\n        [ 2., 14.],\n        [ 3., 15.]])"
     },
     "execution_count": 100,
     "metadata": {},
     "output_type": "execute_result"
    }
   ],
   "source": [
    "t4[0]"
   ],
   "metadata": {
    "collapsed": false,
    "ExecuteTime": {
     "end_time": "2023-11-23T13:55:26.436010600Z",
     "start_time": "2023-11-23T13:55:26.424946500Z"
    }
   },
   "id": "1f03ff4d5b272e6c"
  },
  {
   "cell_type": "code",
   "execution_count": 99,
   "outputs": [],
   "source": [
    "t4[0][0][0]=10"
   ],
   "metadata": {
    "collapsed": false,
    "ExecuteTime": {
     "end_time": "2023-11-23T13:55:24.931158700Z",
     "start_time": "2023-11-23T13:55:24.927957600Z"
    }
   },
   "id": "3122df1e016eec7"
  },
  {
   "cell_type": "code",
   "execution_count": 101,
   "outputs": [
    {
     "data": {
      "text/plain": "tensor([[[10., 12.],\n         [ 1., 13.],\n         [ 2., 14.],\n         [ 3., 15.]],\n\n        [[ 4., 16.],\n         [ 5., 17.],\n         [ 6., 18.],\n         [ 7., 19.]],\n\n        [[ 8., 20.],\n         [ 9., 21.],\n         [10., 22.],\n         [11., 23.]]])"
     },
     "execution_count": 101,
     "metadata": {},
     "output_type": "execute_result"
    }
   ],
   "source": [
    "t4"
   ],
   "metadata": {
    "collapsed": false,
    "ExecuteTime": {
     "end_time": "2023-11-23T13:55:28.526118800Z",
     "start_time": "2023-11-23T13:55:28.520067700Z"
    }
   },
   "id": "1918829b25d9bb2d"
  },
  {
   "cell_type": "markdown",
   "source": [
    "## 9.tensor切片"
   ],
   "metadata": {
    "collapsed": false
   },
   "id": "a1e90b08fa8034d2"
  },
  {
   "cell_type": "code",
   "execution_count": 103,
   "outputs": [
    {
     "data": {
      "text/plain": "tensor([[10., 12.],\n        [ 4., 16.],\n        [ 8., 20.]])"
     },
     "execution_count": 103,
     "metadata": {},
     "output_type": "execute_result"
    }
   ],
   "source": [
    "t4[:,0]"
   ],
   "metadata": {
    "collapsed": false,
    "ExecuteTime": {
     "end_time": "2023-11-23T13:56:22.146493100Z",
     "start_time": "2023-11-23T13:56:22.141698800Z"
    }
   },
   "id": "8d89a16726ccb13a"
  },
  {
   "cell_type": "markdown",
   "source": [
    "# 四.tenor的数据类型\n",
    "![](myimg/img.png)"
   ],
   "metadata": {
    "collapsed": false
   },
   "id": "90ea7d6be96d6261"
  },
  {
   "cell_type": "code",
   "execution_count": null,
   "outputs": [],
   "source": [],
   "metadata": {
    "collapsed": false
   },
   "id": "b8a9ed0592d169ba"
  }
 ],
 "metadata": {
  "kernelspec": {
   "display_name": "Python 3",
   "language": "python",
   "name": "python3"
  },
  "language_info": {
   "codemirror_mode": {
    "name": "ipython",
    "version": 2
   },
   "file_extension": ".py",
   "mimetype": "text/x-python",
   "name": "python",
   "nbconvert_exporter": "python",
   "pygments_lexer": "ipython2",
   "version": "2.7.6"
  }
 },
 "nbformat": 4,
 "nbformat_minor": 5
}
