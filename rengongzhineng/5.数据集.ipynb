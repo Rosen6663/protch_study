{
 "cells": [
  {
   "cell_type": "markdown",
   "source": [
    "# 一、数据集加载目的\n",
    "数据通常很多，不可能一次性在模型，进行反向传播，所以我们会先打乱顺序，把数据处理成一个个的batch，还有对数据进行预处理\n",
    "# 二、数据集类\n",
    "1.Dataset基类介绍\n",
    "+ 包：torch.utils.data.Dataset\n",
    "+ 作用：可用很快实现对数据进行加载\n",
    "源码如下：\n",
    "![](myimg/dataset.png)\n",
    "+ __getitem__方法：获取索引返回值\n",
    "+ __len__方法：通过全局len()的数值\n",
    "+ __add__方法：两个数据集合并作用"
   ],
   "metadata": {
    "collapsed": false
   },
   "id": "59ad295ce143ea6f"
  },
  {
   "cell_type": "markdown",
   "source": [
    "## 2.数据加载例子\n",
    "数据集来源：https://archive.ics.uci.edu/dataset/228/sms+spam+collection\n",
    "短信数据集，ham正常短信，spam：骚扰短信\n",
    "具体代码见py文件\n",
    "## 3.迭代数据集\n",
    "功能\n",
    "+ 批处理数据\n",
    "+ 打乱数据\n",
    "+ 使用多线程mutiprocessing并行加载数据\n",
    "+ torch.utils.datda.DataLoader提供方法\n",
    "![](myimg/数据迭代器.png)\n",
    "dataset:传入实例化的dataset的实例\n",
    "batch_size：传入数据的大小\n",
    "shuffle:bool类型，表示是否每次获取数据的时候打乱数据\n",
    "num_workers：加载数据线程的参数\n",
    "enumerate:便利对象，而且还可以返回序号\n",
    "注意：len(my_dataset):总数\n",
    "len(data_loader)：总数/batch_size:向上取整：math.ceil()\n",
    "还可以加入drop_last=True的参数，把最后一个不完整的batch去除\n",
    "## 4.pytorch自带数据集的使用方法\n",
    "由两个上层api提供：torchvision和torchtext\n",
    "![](myimg/自带数据集.png)\n",
    "+ torchversion.datasets\n",
    "![](myimg/Snipaste_2023-12-02_17-22-40.png)\n",
    "数据集介绍1\n",
    "![](myimg/mnist.png)\n",
    "对图片处理的特别方法\n",
    "注意里面具有call方法，所以才能对其实例获得结果\n",
    "![](myimg/图片处理1.png)\n",
    "将要使用的方法\n",
    "+ 转为符合要求的tensor\n",
    "![](myimg/图片转化2.png)\n",
    "可以传入个列表，作为一个整体传给transform\n",
    "![](myimg/compose.png)"
   ],
   "metadata": {
    "collapsed": false
   },
   "id": "bde15bb91ee4e47f"
  }
 ],
 "metadata": {
  "kernelspec": {
   "display_name": "Python 3",
   "language": "python",
   "name": "python3"
  },
  "language_info": {
   "codemirror_mode": {
    "name": "ipython",
    "version": 2
   },
   "file_extension": ".py",
   "mimetype": "text/x-python",
   "name": "python",
   "nbconvert_exporter": "python",
   "pygments_lexer": "ipython2",
   "version": "2.7.6"
  }
 },
 "nbformat": 4,
 "nbformat_minor": 5
}
