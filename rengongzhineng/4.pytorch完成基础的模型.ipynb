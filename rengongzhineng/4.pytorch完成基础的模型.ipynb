{
 "cells": [
  {
   "cell_type": "markdown",
   "source": [
    "# 一、pytorch完成模型常用API\n",
    "## nn.Module\n",
    "torch.nn提供的一个类，是pytorch的一个基类.\n",
    "注意：\n",
    "+ __init__需要调用super方法，继承父类的属性和方法\n",
    "+ forward方法必须实现，用来定义我们网络向前计算的过程\n",
    "如:y=w*x+b"
   ],
   "metadata": {
    "collapsed": false
   },
   "id": "a2468fb68e9b270a"
  },
  {
   "cell_type": "markdown",
   "source": [
    "1. nn.Liner为torch预定好的线性模型，也被称为全链接层，传入参数为输入的数量，输出数量（in_feature,out_feature)，是不算9batch_size)的列数\n",
    "2. nn.Moudke定义了__call__方法，实现就是调用forward方法，即Lr的实例"
   ],
   "metadata": {
    "collapsed": false
   },
   "id": "bf7fa5327465640e"
  },
  {
   "cell_type": "code",
   "execution_count": 2,
   "outputs": [
    {
     "ename": "NameError",
     "evalue": "name 'x' is not defined",
     "output_type": "error",
     "traceback": [
      "\u001B[1;31m---------------------------------------------------------------------------\u001B[0m",
      "\u001B[1;31mNameError\u001B[0m                                 Traceback (most recent call last)",
      "Cell \u001B[1;32mIn[2], line 13\u001B[0m\n\u001B[0;32m     10\u001B[0m         \u001B[38;5;28;01mreturn\u001B[39;00m out\n\u001B[0;32m     12\u001B[0m model \u001B[38;5;241m=\u001B[39mLr()\n\u001B[1;32m---> 13\u001B[0m predict \u001B[38;5;241m=\u001B[39m model(\u001B[43mx\u001B[49m)\n",
      "\u001B[1;31mNameError\u001B[0m: name 'x' is not defined"
     ]
    }
   ],
   "source": [
    "from torch import nn\n",
    "class Lr(nn.Module):\n",
    "    def __init__(self):\n",
    "        super(Lr,self).__init__()\n",
    "        #输入的形状，输出的形状,就是设置的列\n",
    "        self.linear = nn.Linear(1,1)\n",
    "        \n",
    "    def forward(self,x):\n",
    "        out = self.linear(x)\n",
    "        return out\n",
    "\n",
    "model =Lr()\n",
    "predict = model(x)\n"
   ],
   "metadata": {
    "collapsed": false,
    "ExecuteTime": {
     "end_time": "2023-11-26T02:09:39.226450400Z",
     "start_time": "2023-11-26T02:09:39.155732900Z"
    }
   },
   "id": "aa1e1f79d59c1e53"
  },
  {
   "cell_type": "markdown",
   "source": [
    "## 2.优化器\n",
    "+ 封装更新参数的方法，如：梯度下降\n",
    "+ torch.optim提供的\n",
    "    + torch.optim.SGD(参数，学习率)\n",
    "    + torch.optim.Adam(参数，学习率)\n",
    "注意：参数可以用model.parameters()获取，获取模型中所有requires_grad=True的参数\n",
    "优化器的使用方法\n",
    "1. 实例化\n",
    "2. 所有参数的梯度，将其值设为0\n",
    "3. 反向传播计算梯度\n",
    "4. 更新参数值"
   ],
   "metadata": {
    "collapsed": false
   },
   "id": "f94a575b836a71e9"
  },
  {
   "cell_type": "markdown",
   "source": [
    "from torch import  optim\n",
    "optimizer = optim.SGD((model.parameters(),lr=1e-3)\n",
    "optimizer.zero_grad()#2.梯度设为0\n",
    "loss.backward()#计算梯度\n",
    "optimizer.step()#更新参数"
   ],
   "metadata": {
    "collapsed": false
   },
   "id": "1a5d1ecea931965e"
  },
  {
   "cell_type": "markdown",
   "source": [
    "# 3.损失函数\n",
    "+ 均方误差:nn.MSELoss,常用分类问题\n",
    "+ 交叉熵损失:nn.CrossEnteropyLoss()，常用于逻辑回归"
   ],
   "metadata": {
    "collapsed": false
   },
   "id": "f292b8c433549625"
  },
  {
   "cell_type": "code",
   "execution_count": null,
   "outputs": [],
   "source": [
    "from torch import optim\n",
    "model =Lr()#1.实例化模型\n",
    "criterion = nn.MSELoss()#2.实例化损失函数\n",
    "optimizer = optim.SGD(model.parameters(),lr=1e-3)#实例化优化器类\n",
    "for i in range(100):\n",
    "    y_predict =model(x_true)#4.向前计算预测值\n",
    "    loss = criterion(y_true,y_predict)#5.调用损失函数传入真实和预测值，得到损失结构\n",
    "    optimizer.zero_grad()#5，设置参数梯度为0\n",
    "    loss.backward()#6.计算梯度\n",
    "    optimizer.step()#7.更新参数的值"
   ],
   "metadata": {
    "collapsed": false
   },
   "id": "cf1e171866d0012a"
  }
 ],
 "metadata": {
  "kernelspec": {
   "display_name": "Python 3",
   "language": "python",
   "name": "python3"
  },
  "language_info": {
   "codemirror_mode": {
    "name": "ipython",
    "version": 2
   },
   "file_extension": ".py",
   "mimetype": "text/x-python",
   "name": "python",
   "nbconvert_exporter": "python",
   "pygments_lexer": "ipython2",
   "version": "2.7.6"
  }
 },
 "nbformat": 4,
 "nbformat_minor": 5
}
