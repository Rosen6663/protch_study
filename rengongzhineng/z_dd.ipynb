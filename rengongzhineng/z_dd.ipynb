{
 "cells": [
  {
   "cell_type": "markdown",
   "source": [
    "# torch的基本操作"
   ],
   "metadata": {
    "collapsed": false
   },
   "id": "30d08c7ec71125d"
  },
  {
   "cell_type": "code",
   "execution_count": 1,
   "outputs": [
    {
     "data": {
      "text/plain": "'2.1.1+cu121'"
     },
     "execution_count": 1,
     "metadata": {},
     "output_type": "execute_result"
    }
   ],
   "source": [
    "import torch\n",
    "torch.__version__"
   ],
   "metadata": {
    "collapsed": false,
    "ExecuteTime": {
     "end_time": "2023-11-23T11:53:24.553306800Z",
     "start_time": "2023-11-23T11:52:50.516809900Z"
    }
   },
   "id": "2a731f1f2d0769f8"
  },
  {
   "cell_type": "markdown",
   "source": [
    "导入包，检查版本"
   ],
   "metadata": {
    "collapsed": false
   },
   "id": "1898a2fc2dab2c5c"
  },
  {
   "cell_type": "code",
   "execution_count": 4,
   "outputs": [
    {
     "data": {
      "text/plain": "tensor([[-3.1915e+37,  1.4966e-42,  0.0000e+00],\n        [ 0.0000e+00,  0.0000e+00,  0.0000e+00],\n        [ 0.0000e+00,  0.0000e+00,  0.0000e+00],\n        [ 0.0000e+00,  0.0000e+00,  0.0000e+00],\n        [ 0.0000e+00,  0.0000e+00,  0.0000e+00]])"
     },
     "execution_count": 4,
     "metadata": {},
     "output_type": "execute_result"
    }
   ],
   "source": [
    "x = torch.empty(5,3)\n",
    "x"
   ],
   "metadata": {
    "collapsed": false,
    "ExecuteTime": {
     "end_time": "2023-11-23T11:53:38.580492Z",
     "start_time": "2023-11-23T11:53:38.569285600Z"
    }
   },
   "id": "b3fb359424b3236f"
  },
  {
   "cell_type": "markdown",
   "source": [
    "创建5行3列的矩阵"
   ],
   "metadata": {
    "collapsed": false
   },
   "id": "90b09dee5d7d9c1"
  },
  {
   "cell_type": "code",
   "execution_count": 5,
   "outputs": [
    {
     "data": {
      "text/plain": "tensor([[0.1293, 0.2372, 0.3355],\n        [0.2913, 0.0695, 0.6159],\n        [0.9289, 0.4832, 0.1424],\n        [0.9718, 0.1832, 0.7711],\n        [0.6145, 0.7055, 0.7212]])"
     },
     "execution_count": 5,
     "metadata": {},
     "output_type": "execute_result"
    }
   ],
   "source": [
    "x =torch.rand(5,3)\n",
    "x"
   ],
   "metadata": {
    "collapsed": false,
    "ExecuteTime": {
     "end_time": "2023-11-23T11:54:40.936297100Z",
     "start_time": "2023-11-23T11:54:40.930355200Z"
    }
   },
   "id": "8d00ce4d27f8531d"
  },
  {
   "cell_type": "markdown",
   "source": [
    "获取个随机值"
   ],
   "metadata": {
    "collapsed": false
   },
   "id": "6b0234a900d52430"
  },
  {
   "cell_type": "markdown",
   "source": [
    "pytorch:所有的计算都需要转为tensor格式\n",
    "tensor:张量：最基本的计算单元，框架的底层，相当于一个矩阵"
   ],
   "metadata": {
    "collapsed": false
   },
   "id": "70c058dfba30e6d3"
  },
  {
   "cell_type": "code",
   "execution_count": 13,
   "outputs": [
    {
     "data": {
      "text/plain": "tensor([[0, 0, 0],\n        [0, 0, 0],\n        [0, 0, 0],\n        [0, 0, 0],\n        [0, 0, 0]])"
     },
     "execution_count": 13,
     "metadata": {},
     "output_type": "execute_result"
    }
   ],
   "source": [
    "x = torch.zeros(5,3,dtype=torch.long)\n",
    "x"
   ],
   "metadata": {
    "collapsed": false,
    "ExecuteTime": {
     "end_time": "2023-11-23T12:01:42.866480200Z",
     "start_time": "2023-11-23T12:01:42.858714800Z"
    }
   },
   "id": "7138e0bb65f5172c"
  },
  {
   "cell_type": "markdown",
   "source": [
    "指定矩阵的数据类型为long"
   ],
   "metadata": {
    "collapsed": false
   },
   "id": "ca5ec00db1c919f7"
  },
  {
   "cell_type": "code",
   "execution_count": 14,
   "outputs": [
    {
     "data": {
      "text/plain": "torch.Size([5, 3])"
     },
     "execution_count": 14,
     "metadata": {},
     "output_type": "execute_result"
    }
   ],
   "source": [
    "x.size()"
   ],
   "metadata": {
    "collapsed": false,
    "ExecuteTime": {
     "end_time": "2023-11-23T12:02:32.086546900Z",
     "start_time": "2023-11-23T12:02:32.081985400Z"
    }
   },
   "id": "9a0c6e9214876790"
  },
  {
   "cell_type": "code",
   "execution_count": 16,
   "outputs": [
    {
     "data": {
      "text/plain": "tensor([[0.3429, 0.6429, 0.0888],\n        [0.6008, 0.6030, 0.5776],\n        [0.3473, 0.4205, 0.1660],\n        [0.5562, 0.4151, 0.1550],\n        [0.8329, 0.8328, 0.4138]])"
     },
     "execution_count": 16,
     "metadata": {},
     "output_type": "execute_result"
    }
   ],
   "source": [
    "x = torch.rand(5,3)\n",
    "x"
   ],
   "metadata": {
    "collapsed": false,
    "ExecuteTime": {
     "end_time": "2023-11-23T12:04:04.992095800Z",
     "start_time": "2023-11-23T12:04:04.984918800Z"
    }
   },
   "id": "1c7807aaa58bdb92"
  },
  {
   "cell_type": "code",
   "execution_count": 17,
   "outputs": [
    {
     "data": {
      "text/plain": "tensor([[0.7038, 0.5652, 0.3837],\n        [0.0552, 0.3497, 0.1201],\n        [0.6364, 0.4875, 0.5063],\n        [0.0938, 0.3913, 0.5100],\n        [0.9066, 0.3166, 0.4532]])"
     },
     "execution_count": 17,
     "metadata": {},
     "output_type": "execute_result"
    }
   ],
   "source": [
    "y = torch.rand(5,3)\n",
    "y"
   ],
   "metadata": {
    "collapsed": false,
    "ExecuteTime": {
     "end_time": "2023-11-23T12:04:05.894538Z",
     "start_time": "2023-11-23T12:04:05.888211Z"
    }
   },
   "id": "ca612c87f8589dd9"
  },
  {
   "cell_type": "code",
   "execution_count": 18,
   "outputs": [
    {
     "data": {
      "text/plain": "tensor([[1.0467, 1.2082, 0.4725],\n        [0.6561, 0.9526, 0.6977],\n        [0.9838, 0.9079, 0.6723],\n        [0.6501, 0.8064, 0.6650],\n        [1.7395, 1.1494, 0.8670]])"
     },
     "execution_count": 18,
     "metadata": {},
     "output_type": "execute_result"
    }
   ],
   "source": [
    "torch.add(x,y)"
   ],
   "metadata": {
    "collapsed": false,
    "ExecuteTime": {
     "end_time": "2023-11-23T12:04:21.167461300Z",
     "start_time": "2023-11-23T12:04:21.160421Z"
    }
   },
   "id": "c258a7c2f6000b26"
  },
  {
   "cell_type": "markdown",
   "source": [
    "# 索引\n",
    "展示x的全部行，第一列"
   ],
   "metadata": {
    "collapsed": false
   },
   "id": "6423e29f303494de"
  },
  {
   "cell_type": "code",
   "execution_count": 20,
   "outputs": [
    {
     "data": {
      "text/plain": "tensor([0.3429, 0.6008, 0.3473, 0.5562, 0.8329])"
     },
     "execution_count": 20,
     "metadata": {},
     "output_type": "execute_result"
    }
   ],
   "source": [
    "x[:,0]"
   ],
   "metadata": {
    "collapsed": false,
    "ExecuteTime": {
     "end_time": "2023-11-23T12:07:02.560975400Z",
     "start_time": "2023-11-23T12:07:02.556030300Z"
    }
   },
   "id": "de2f46cf4023f85f"
  },
  {
   "cell_type": "markdown",
   "source": [
    "# view操作\n",
    "+ torch.rand 生成在区间 [0, 1) 内均匀分布的随机数\n",
    "+ torch.randn 生成从标准正态分布（均值为0，标准差为1）中采样的随机数。\n",
    "-----------------------------------------------------\n",
    "+ x.view(16)把4*4拉长成16\n",
    "+ x.view(-1,8):-1代表自动计算"
   ],
   "metadata": {
    "collapsed": false
   },
   "id": "781eda5003ebec56"
  },
  {
   "cell_type": "code",
   "execution_count": null,
   "outputs": [],
   "source": [
    "x = torch.randn(4,4)\n",
    "y=x.view(16)\n",
    "z=x.view(-1,8)\n",
    "print(x.size(),y.size(),z.size)"
   ],
   "metadata": {
    "collapsed": false
   },
   "id": "4537b8ada021d00b"
  },
  {
   "cell_type": "markdown",
   "source": [
    "# 与Numpy协同操作\n",
    "## torch转numpy\n",
    "ones：代表每个元素都是1"
   ],
   "metadata": {
    "collapsed": false
   },
   "id": "8f4c1db598478323"
  },
  {
   "cell_type": "code",
   "execution_count": 22,
   "outputs": [
    {
     "data": {
      "text/plain": "array([1., 1., 1., 1., 1.], dtype=float32)"
     },
     "execution_count": 22,
     "metadata": {},
     "output_type": "execute_result"
    }
   ],
   "source": [
    "a=torch.ones(5)\n",
    "b =a.numpy()\n",
    "b"
   ],
   "metadata": {
    "collapsed": false,
    "ExecuteTime": {
     "end_time": "2023-11-23T12:13:07.544334900Z",
     "start_time": "2023-11-23T12:13:07.539207300Z"
    }
   },
   "id": "e59f2a9996cc273b"
  },
  {
   "cell_type": "code",
   "execution_count": 25,
   "outputs": [
    {
     "data": {
      "text/plain": "tensor([1., 1., 1., 1., 1.], dtype=torch.float64)"
     },
     "execution_count": 25,
     "metadata": {},
     "output_type": "execute_result"
    }
   ],
   "source": [
    "import numpy as np\n",
    "a = np.ones(5)\n",
    "b= torch.from_numpy(a)\n",
    "b"
   ],
   "metadata": {
    "collapsed": false,
    "ExecuteTime": {
     "end_time": "2023-11-23T12:14:15.976507600Z",
     "start_time": "2023-11-23T12:14:15.969207Z"
    }
   },
   "id": "22ff9e28f9bbb157"
  },
  {
   "cell_type": "code",
   "execution_count": null,
   "outputs": [],
   "source": [],
   "metadata": {
    "collapsed": false
   },
   "id": "9b8b993939fa1761"
  }
 ],
 "metadata": {
  "kernelspec": {
   "display_name": "Python 3",
   "language": "python",
   "name": "python3"
  },
  "language_info": {
   "codemirror_mode": {
    "name": "ipython",
    "version": 2
   },
   "file_extension": ".py",
   "mimetype": "text/x-python",
   "name": "python",
   "nbconvert_exporter": "python",
   "pygments_lexer": "ipython2",
   "version": "2.7.6"
  }
 },
 "nbformat": 4,
 "nbformat_minor": 5
}
